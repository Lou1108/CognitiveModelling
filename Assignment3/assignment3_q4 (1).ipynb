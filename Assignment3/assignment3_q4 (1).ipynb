{
  "cells": [
    {
      "cell_type": "markdown",
      "source": [
        "# Assignment 3"
      ],
      "metadata": {
        "collapsed": false,
        "id": "_orOsiqAiShy"
      }
    },
    {
      "cell_type": "code",
      "execution_count": null,
      "outputs": [],
      "source": [
        "import numpy as np"
      ],
      "metadata": {
        "id": "01GCL6ukiShz"
      }
    },
    {
      "cell_type": "markdown",
      "source": [
        "## Section 1"
      ],
      "metadata": {
        "collapsed": false,
        "id": "ggxV1jPziShz"
      }
    },
    {
      "cell_type": "code",
      "execution_count": null,
      "outputs": [],
      "source": [
        "# implementing bayes with two hypotheses\n",
        "def bayesFunction(p_h, p_d_h, p_d_noth):\n",
        "    marginalization = p_h*p_d_h + (1-p_h)*p_d_noth\n",
        "    p_h_d = (p_h * p_d_h)/marginalization\n",
        "    return p_h_d"
      ],
      "metadata": {
        "id": "1N8E1JJXiShz"
      }
    },
    {
      "cell_type": "code",
      "execution_count": null,
      "outputs": [
        {
          "output_type": "execute_result",
          "data": {
            "text/plain": [
              "True"
            ]
          },
          "metadata": {},
          "execution_count": 16
        }
      ],
      "source": [
        "# self test:\n",
        "A = bayesFunction(0.1, 0.9, 0.3)\n",
        "B = bayesFunction(0.9, 0.9, 0.3)\n",
        "C = bayesFunction(0.9, 0.3, 0.9)\n",
        "D = bayesFunction(0.001, 0.99, 0.02)\n",
        "E = bayesFunction(0.3, 0.5, 0.5)\n",
        "\n",
        "# TODO this only works when rounding\n",
        "[round(A, 3), round(B,2), round(C, 3), round(D, 3), round(E, 3)] == [0.25, 0.96, 0.75, 0.047, 0.3]"
      ],
      "metadata": {
        "colab": {
          "base_uri": "https://localhost:8080/"
        },
        "id": "sGJi-bPWiShz",
        "outputId": "cb434bd5-575c-40f2-aaca-d86eb1f23b99"
      }
    },
    {
      "cell_type": "code",
      "execution_count": null,
      "outputs": [],
      "source": [
        "def bayesFunctionMultipleHypothesis(prior_probs, likelihoods):\n",
        "    \"\"\"\n",
        "\n",
        "    :param prior_probs: vector of prior probabilities of all possible hypotheses.\n",
        "    :param likelihoods: vector of all likelihood functions of the data given these hypotheses.\n",
        "    :return: vector of resulting outcomes\n",
        "    \"\"\"\n",
        "\n",
        "    denom = np.multiply(prior_probs,likelihoods)\n",
        "    num = sum(np.multiply(prior_probs,likelihoods))\n",
        "    posteriors = denom/num\n",
        "\n",
        "    return posteriors"
      ],
      "metadata": {
        "id": "dGz9NYjriSh0"
      }
    },
    {
      "cell_type": "code",
      "execution_count": null,
      "outputs": [
        {
          "output_type": "stream",
          "name": "stdout",
          "text": [
            "[0.25 0.75]   [0.96428571 0.03571429]   [0.75 0.25]   [0.0472103 0.9527897]   [0.3 0.7]   [0.54545455 0.37190083 0.08264463]   [0.52173913 0.39130435 0.08695652]   [0.43548387 0.43548387 0.12903226]   [0.65853659 0.14634146 0.19512195]   [0.66666667 0.11111111 0.11111111 0.11111111]   [0.6 0.2 0.1 0.1]   [0.62264151 0.12578616 0.12578616 0.12578616]\n"
          ]
        }
      ],
      "source": [
        "A = bayesFunctionMultipleHypothesis([0.1,0.9], [0.9, 0.3]) #0.25\n",
        "B = bayesFunctionMultipleHypothesis([0.9, 0.1], [0.9, 0.3]) #0.96\n",
        "C = bayesFunctionMultipleHypothesis([0.9, 0.1], [0.3, 0.9]) #0.75\n",
        "D = bayesFunctionMultipleHypothesis([0.001, 0.999], [0.99, 0.02]) #0.047\n",
        "E = bayesFunctionMultipleHypothesis([0.3,0.7], [0.5, 0.5]) #0.3\n",
        "F = bayesFunctionMultipleHypothesis([0.4,0.3, 0.3], [0.99, 0.9, 0.2]) #P_h1_givenD: 0.545\n",
        "G = bayesFunctionMultipleHypothesis([0.4,0.3, 0.3], [0.9, 0.9, 0.2]) #P_h1_givenD: 0.522\n",
        "H = bayesFunctionMultipleHypothesis([0.3,0.3, 0.4], [0.9, 0.9, 0.2]) #P_h1_givenD: 0.435\n",
        "I = bayesFunctionMultipleHypothesis([0.3,0.3, 0.4], [0.9, 0.2, 0.2]) #P_h1_givenD: 0.659\n",
        "J = bayesFunctionMultipleHypothesis([0.4,0.2, 0.2, 0.2], [0.9, 0.3, 0.3, 0.3]) #P_h1_givenD: 0.667\n",
        "K = bayesFunctionMultipleHypothesis([0.4,0.2, 0.2, 0.2], [0.9, 0.6, 0.3, 0.3]) #P_h1_givenD: 0.6\n",
        "L = bayesFunctionMultipleHypothesis([0.01,0.2, 0.2, 0.2], [0.99, 0.01, 0.01, 0.01]) #P_h1_givenD: 0.623\n",
        "\n",
        "print(A, \" \", B, \" \", C, \" \", D, \" \", E, \" \", F, \" \", G, \" \", H, \" \", I, \" \", J, \" \", K, \" \", L)"
      ],
      "metadata": {
        "colab": {
          "base_uri": "https://localhost:8080/"
        },
        "id": "GhgIbzsMiSh0",
        "outputId": "2fd1d2f3-6dd7-4553-f8b5-d58263fd472b"
      }
    },
    {
      "cell_type": "code",
      "execution_count": null,
      "outputs": [],
      "source": [
        "def bayesFactor(posteriors, priors):\n",
        "    if sum(posteriors) != 1:\n",
        "        raise Exception(\"The sum of all posteriors must be equal to 1!\")\n",
        "\n",
        "    # 1 vs not 1\n",
        "    bayes_factors = [(posteriors[0]*(1-priors[0]))/((1-posteriors[0])*priors[0])]\n",
        "\n",
        "    for posterior, prior in zip(posteriors[1:], priors[1:]):\n",
        "        bayes_factors.append((posteriors[0]*prior)/(posterior*priors[0]))\n",
        "\n",
        "    return bayes_factors\n"
      ],
      "metadata": {
        "id": "TZvTIoIJiSh0"
      }
    },
    {
      "cell_type": "code",
      "execution_count": null,
      "outputs": [
        {
          "output_type": "stream",
          "name": "stdout",
          "text": [
            "[36.00000000000001, 53.99999999999999, 18.0]\n",
            "[22.666666666666664, 50.99999999999999, 8.499999999999998]\n",
            "[0.2647058823529411, 0.32142857142857145, 0.22499999999999998]\n",
            "[1.2564102564102562, 3.1111111111111107, 0.7]\n"
          ]
        }
      ],
      "source": [
        "bf = bayesFactor([0.9,0.05,0.05], [0.2, 0.6,0.2]) # 36, 54, 18\n",
        "print(bf)\n",
        "bf2 = bayesFactor([0.85,0.05,0.1], [0.2, 0.6,0.2]) # 22.66666667, 51, 8.5\n",
        "print(bf2)\n",
        "bf3 = bayesFactor([0.15,0.35,0.5], [0.4, 0.3,0.3]) # 0.264705882352941, 0.321428571428571, 0.225\n",
        "print(bf3)\n",
        "\n",
        "bf4 = bayesFactor([0.35,0.15,0.5], [0.3, 0.4,0.3]) # 1.25641025641026, 3.11111111111111, 0.7\n",
        "print(bf4)"
      ],
      "metadata": {
        "colab": {
          "base_uri": "https://localhost:8080/"
        },
        "id": "_WAIF-ChiSh0",
        "outputId": "bdfcc234-78fe-4314-b3ef-a2a4d58d1f9a"
      }
    },
    {
      "cell_type": "markdown",
      "source": [
        "### Blackboard Question 1.1"
      ],
      "metadata": {
        "collapsed": false,
        "id": "ibIDKOODiSh0"
      }
    },
    {
      "cell_type": "markdown",
      "source": [
        "**A** Calculate the posterior value that people can see in the future under the data.\n",
        "    Assume:\n",
        "        a. The prior probability that people can see in the future is equal to not seeing in the future: 50%\n",
        "        b. The probability to observe this data under the hypothesis that people can see in the future is 0.531\n",
        "        c. The probability to observe this data under the hypothesis that people cannot see in the future is 0.52 (this captures the intuition that values around 0.5 are likely when fully guessing)"
      ],
      "metadata": {
        "collapsed": false,
        "id": "Mo9EyPSJiSh0"
      }
    },
    {
      "cell_type": "code",
      "execution_count": null,
      "outputs": [
        {
          "output_type": "stream",
          "name": "stdout",
          "text": [
            "The Posterior Probability is:  0.5052331113225499\n"
          ]
        }
      ],
      "source": [
        "n = 100 # number participants\n",
        "prior = 0.5 #P(H_fut) = P(H_noFut)\n",
        "p_Future = 0.531 # hypothesis: people can see into the future; P(D|H_fut)\n",
        "p_noFuture = 0.52 # hypothesis: people cannot see into the future;  P(D|H_noFut)\n",
        "\n",
        "posterior_exp1 = bayesFunction(prior,p_Future,p_noFuture) # P(H_fut|D)\n",
        "posterior_exp1_nofut = bayesFunction(prior,p_noFuture,p_Future) # P(H_noFut|D)\n",
        "\n",
        "print(\"The Posterior Probability is: \", posterior_exp1)"
      ],
      "metadata": {
        "colab": {
          "base_uri": "https://localhost:8080/"
        },
        "id": "dJgFQP9yiSh0",
        "outputId": "0e309af9-3fe6-43a9-c777-d0046a21221f"
      }
    },
    {
      "cell_type": "markdown",
      "source": [
        "**B** What is the Bayes factor? (BFpeople can see in the future, not see in the future)"
      ],
      "metadata": {
        "collapsed": false,
        "id": "caypeW6CiSh0"
      }
    },
    {
      "cell_type": "code",
      "execution_count": null,
      "outputs": [
        {
          "output_type": "stream",
          "name": "stdout",
          "text": [
            "Bayes Factor:  [1.0211538461538463, 1.0211538461538463]\n"
          ]
        }
      ],
      "source": [
        "bf = bayesFactor([round(posterior_exp1, 14), round(posterior_exp1_nofut, 14)], [prior, prior])\n",
        "\n",
        "print(\"Bayes Factor: \", bf)"
      ],
      "metadata": {
        "colab": {
          "base_uri": "https://localhost:8080/"
        },
        "id": "SSWTWpqViSh1",
        "outputId": "91c3779d-d121-4b31-b288-5ac5fa98833c"
      }
    },
    {
      "cell_type": "markdown",
      "source": [
        "C. Eric-Jan, a more skeptic researcher, thinks the prior probability that people can look into the future is 0.001. What are the posterior odds for such a skeptic researcher?"
      ],
      "metadata": {
        "collapsed": false,
        "id": "FEUsCWOtiSh1"
      }
    },
    {
      "cell_type": "code",
      "execution_count": null,
      "outputs": [
        {
          "output_type": "stream",
          "name": "stdout",
          "text": [
            "The posterior odds are:  0.0010221760221760222\n"
          ]
        }
      ],
      "source": [
        "prior_skeptic = 0.001 # hypothesis: people can see into the future; P(D|H_fut)\n",
        "\n",
        "\n",
        "posterior_skeptic = bayesFunction(prior_skeptic,p_Future,p_noFuture) # P(H_fut|D)\n",
        "posterior_skeptic_nofut = bayesFunction(1-prior_skeptic,p_noFuture,p_Future) # P(H_noFut|D)\n",
        "\n",
        "# P(H|D)/P(!H|D)\n",
        "posterior_odds = posterior_skeptic/posterior_skeptic_nofut\n",
        "\n",
        "print(\"The posterior odds are: \", posterior_odds)"
      ],
      "metadata": {
        "colab": {
          "base_uri": "https://localhost:8080/"
        },
        "id": "ABBz6Qm-iSh1",
        "outputId": "70874491-ff48-495f-a5af-d3e3edd5f736"
      }
    },
    {
      "cell_type": "markdown",
      "source": [
        "D. The experiment is replicated three times by different researchers, independently. So, the conditional probabilities are estimated independently. The priors are updated based on the outcomes of earlier experiments, starting with the outcome of the initial experiment. The relevant other data is in the table below. For each experiment give the new posteriors of P(Hpeople see in the future | Data)"
      ],
      "metadata": {
        "collapsed": false,
        "id": "bS_i7kbniSh1"
      }
    },
    {
      "cell_type": "code",
      "execution_count": null,
      "outputs": [
        {
          "output_type": "stream",
          "name": "stdout",
          "text": [
            "2:  0.48050051777037883\n",
            "3:  0.4113068034046174\n",
            "4:  0.3351267396958185\n"
          ]
        }
      ],
      "source": [
        "posterior_exp2 = bayesFunction(posterior_exp1,0.471,0.520) # P(H_fut|D)\n",
        "posterior_exp3 = bayesFunction(posterior_exp2,0.491,0.65) # P(H_fut|D)\n",
        "posterior_exp4 = bayesFunction(posterior_exp3,0.505,0.70) # P(H_fut|D)\n",
        "\n",
        "print(\"2: \", posterior_exp2)\n",
        "print(\"3: \", posterior_exp3)\n",
        "print(\"4: \", posterior_exp4)"
      ],
      "metadata": {
        "colab": {
          "base_uri": "https://localhost:8080/"
        },
        "id": "a5eabjXJiSh1",
        "outputId": "3dfc942c-d5ff-4f4e-da4b-ce431a4bd83b"
      }
    },
    {
      "cell_type": "markdown",
      "source": [
        "**E.**  Using the Bayes Factor, argue briefly whether the data convinces that people can look into the future."
      ],
      "metadata": {
        "collapsed": false,
        "id": "x_WBpKlMiSh1"
      }
    },
    {
      "cell_type": "code",
      "execution_count": null,
      "outputs": [
        {
          "output_type": "stream",
          "name": "stdout",
          "text": [
            "BF 2:  0.9057692307692307\n",
            "BF 3:  0.7553846153846153\n",
            "BF 4:  0.7214285714285715\n"
          ]
        }
      ],
      "source": [
        "bf_2 = 0.471/0.520\n",
        "bf_3 = 0.491/0.65\n",
        "bf_4 = 0.505/0.7\n",
        "\n",
        "print(\"BF 2: \", bf_2)\n",
        "print(\"BF 3: \", bf_3)\n",
        "print(\"BF 4: \", bf_4)"
      ],
      "metadata": {
        "colab": {
          "base_uri": "https://localhost:8080/"
        },
        "id": "hN6pLdOjiSh1",
        "outputId": "9f00d42e-16f8-4849-c196-bf3f56d8ebca"
      }
    },
    {
      "cell_type": "markdown",
      "source": [
        "# Section 3"
      ],
      "metadata": {
        "collapsed": false,
        "id": "g6BkT7BCiSh1"
      }
    },
    {
      "cell_type": "code",
      "execution_count": null,
      "outputs": [
        {
          "output_type": "stream",
          "name": "stdout",
          "text": [
            "0  participants were considered!\n",
            "+++++++++++++++++++++++++++++++++++++++++++++++++++++++\n",
            "0  participants were considered!\n",
            "+++++++++++++++++++++++++++++++++++++++++++++++++++++++\n"
          ]
        }
      ],
      "source": [
        "import model_fitting_BS_MSE\n",
        "import model_fitting_RF_MSE"
      ],
      "metadata": {
        "colab": {
          "base_uri": "https://localhost:8080/"
        },
        "id": "DK6f1MwaiSh1",
        "outputId": "b5f823d4-52fc-4ea1-cefc-8bee1b842662"
      }
    },
    {
      "cell_type": "code",
      "execution_count": null,
      "outputs": [
        {
          "output_type": "stream",
          "name": "stdout",
          "text": [
            "(0, 60, 3)\n"
          ]
        },
        {
          "output_type": "error",
          "ename": "IndexError",
          "evalue": "index 0 is out of bounds for axis 0 with size 0",
          "traceback": [
            "\u001b[0;31m---------------------------------------------------------------------------\u001b[0m",
            "\u001b[0;31mIndexError\u001b[0m                                Traceback (most recent call last)",
            "\u001b[0;32m<ipython-input-27-f1056d2f3ccb>\u001b[0m in \u001b[0;36m<cell line: 1>\u001b[0;34m()\u001b[0m\n\u001b[0;32m----> 1\u001b[0;31m \u001b[0mbic_bs\u001b[0m \u001b[0;34m=\u001b[0m \u001b[0mmodel_fitting_BS_MSE\u001b[0m\u001b[0;34m.\u001b[0m\u001b[0minit_fit_BS\u001b[0m\u001b[0;34m(\u001b[0m\u001b[0;34m)\u001b[0m\u001b[0;34m\u001b[0m\u001b[0;34m\u001b[0m\u001b[0m\n\u001b[0m",
            "\u001b[0;32m/content/model_fitting_BS_MSE.py\u001b[0m in \u001b[0;36minit_fit_BS\u001b[0;34m(free_parameter)\u001b[0m\n\u001b[1;32m    169\u001b[0m         \u001b[0mminMSE\u001b[0m\u001b[0;34m,\u001b[0m \u001b[0mn_data\u001b[0m\u001b[0;34m,\u001b[0m \u001b[0mBIC\u001b[0m \u001b[0;34m=\u001b[0m \u001b[0;36m0\u001b[0m\u001b[0;34m,\u001b[0m \u001b[0;36m0\u001b[0m\u001b[0;34m,\u001b[0m \u001b[0;36m0\u001b[0m\u001b[0;34m\u001b[0m\u001b[0;34m\u001b[0m\u001b[0m\n\u001b[1;32m    170\u001b[0m         \u001b[0mn_para\u001b[0m \u001b[0;34m=\u001b[0m \u001b[0;36m7\u001b[0m  \u001b[0;31m# effective number of parameters: [a,b,c]*2, beta/(n+2beta), beta/(n2+2beta)\u001b[0m\u001b[0;34m\u001b[0m\u001b[0;34m\u001b[0m\u001b[0m\n\u001b[0;32m--> 171\u001b[0;31m         \u001b[0mtestdata\u001b[0m \u001b[0;34m=\u001b[0m \u001b[0mpData\u001b[0m\u001b[0;34m[\u001b[0m\u001b[0mipar\u001b[0m\u001b[0;34m,\u001b[0m \u001b[0;34m:\u001b[0m\u001b[0;34m,\u001b[0m \u001b[0;34m:\u001b[0m\u001b[0;34m]\u001b[0m\u001b[0;34m\u001b[0m\u001b[0;34m\u001b[0m\u001b[0m\n\u001b[0m\u001b[1;32m    172\u001b[0m         fit_all_data = differential_evolution(MSE_BS, bounds=bnds,\n\u001b[1;32m    173\u001b[0m                                               \u001b[0mpopsize\u001b[0m\u001b[0;34m=\u001b[0m\u001b[0;36m30\u001b[0m\u001b[0;34m,\u001b[0m\u001b[0;34m\u001b[0m\u001b[0;34m\u001b[0m\u001b[0m\n",
            "\u001b[0;31mIndexError\u001b[0m: index 0 is out of bounds for axis 0 with size 0"
          ]
        }
      ],
      "source": [
        "bic_bs = model_fitting_BS_MSE.init_fit_BS()"
      ],
      "metadata": {
        "colab": {
          "base_uri": "https://localhost:8080/",
          "height": 280
        },
        "id": "OWHo5zwoiSh1",
        "outputId": "d924da6a-93f3-4634-c1d4-5c916976721b"
      }
    },
    {
      "cell_type": "code",
      "execution_count": null,
      "outputs": [],
      "source": [
        "bic_rf = model_fitting_RF_MSE.init_fit_RF()"
      ],
      "metadata": {
        "id": "ppdRD6ZPiSh1"
      }
    },
    {
      "cell_type": "code",
      "execution_count": null,
      "outputs": [],
      "source": [
        "print(bic_bs)\n",
        "print(bic_rf)"
      ],
      "metadata": {
        "id": "99H_mYUHiSh1"
      }
    },
    {
      "cell_type": "markdown",
      "source": [
        "# Bonus Section\n"
      ],
      "metadata": {
        "collapsed": false,
        "id": "MkAu-bVmiSh1"
      }
    },
    {
      "cell_type": "code",
      "execution_count": null,
      "outputs": [],
      "source": [
        "# Dictionary of all BIC variants that should be calculated\n",
        "bic_variants = {\"BS_1\":7, \"BS_2\":8, \"BS_3\":9, \"BS_4\":10, \"RF_1\":6, \"RF_2\":8}\n",
        "\n",
        "for v in bic_variants:\n",
        "    if \"BS\"in v:\n",
        "        bic_variants[v] = (bic_variants[v], model_fitting_BS_MSE.init_fit_BS(bic_variants[v]))\n",
        "    else:\n",
        "        bic_variants[v] = (bic_variants[v], model_fitting_RF_MSE.init_fit_RF(bic_variants[v]))\n",
        "\n",
        "print(\"These are the BIC Scores of all BIC variants: \")\n",
        "print(bic_variants)"
      ],
      "metadata": {
        "id": "6RA3fjr7iSh1"
      }
    },
    {
      "cell_type": "code",
      "execution_count": null,
      "outputs": [],
      "source": [
        "print(\"These are the BIC Scores of all BIC variants: \")\n",
        "print(bic_variants)"
      ],
      "metadata": {
        "id": "jbRyzfS0iSh2"
      }
    },
    {
      "cell_type": "code",
      "source": [
        "import numpy as np\n",
        "from scipy.optimize import differential_evolution\n",
        "import pandas as pd\n",
        "import matplotlib.pyplot as plt\n",
        "import glob\n",
        "\n",
        "# Define global variables for N, beta, and testdata\n",
        "GLOBAL_N = None\n",
        "GLOBAL_BETA = None\n",
        "\n",
        "# Function to clean data\n",
        "def clean_data():\n",
        "    \"\"\"\n",
        "    Load and process participant data.\n",
        "    Returns:\n",
        "        pData: Cleaned probability estimates\n",
        "        queryOrder: Query order used in the experiment\n",
        "    \"\"\"\n",
        "    all_data = glob.glob('/content/drive/MyDrive/all_data/*.csv')  # Update path as needed\n",
        "    numPar = len(all_data)\n",
        "    print(f\"{numPar} participants found.\")\n",
        "\n",
        "    est = np.zeros((numPar, 60, 3))  # Assuming 60 queries and 3 repetitions\n",
        "    queryOrder = []\n",
        "    neg, land, lor, lg = ' not', ' and', ' or', ' given'\n",
        "    eventAs = [' cold', ' windy', ' warm']\n",
        "    eventBs = [' rainy', ' cloudy', ' snowy']\n",
        "\n",
        "    for A, B in zip(eventAs, eventBs):\n",
        "        queryOrder.extend([A, B, neg + A, neg + B,\n",
        "                           A + land + B, B + land + neg + A,\n",
        "                           A + land + neg + B, neg + A + land + neg + B,\n",
        "                           A + lor + B, B + lor + neg + A,\n",
        "                           A + lor + neg + B, neg + A + lor + neg + B,\n",
        "                           A + lg + B, neg + A + lg + B,\n",
        "                           A + lg + neg + B, neg + A + lg + neg + B,\n",
        "                           B + lg + A, neg + B + lg + A,\n",
        "                           B + lg + neg + A, neg + B + lg + neg + A])\n",
        "\n",
        "    for i, fname in enumerate(all_data):\n",
        "        df = pd.read_csv(fname)\n",
        "        for j, q in enumerate(queryOrder):\n",
        "            nowEst = df[df['querydetail'] == q]['estimate']\n",
        "            nowEstValues = nowEst.values / 100\n",
        "            for k in range(3):\n",
        "                est[i, j, k] = nowEstValues[k]\n",
        "\n",
        "    return est, queryOrder\n",
        "\n",
        "# Function to calculate true probabilities\n",
        "def get_truePr_BS(a, b, c, d):\n",
        "    base = a + b + c + d\n",
        "    return [(a + c) / base, (a + b) / base, (b + d) / base, (c + d) / base,\n",
        "            a / base, b / base, c / base, d / base,\n",
        "            (a + b + c) / base, (a + b + d) / base,\n",
        "            (a + c + d) / base, (b + c + d) / base,\n",
        "            a / (a + b), b / (a + b), c / (c + d), d / (c + d),\n",
        "            a / (a + c), c / (a + c), b / (b + d), d / (b + d)]\n",
        "\n",
        "# Modify generative model to use global N and beta values\n",
        "def generativeModel_BS_fixed(params):\n",
        "    a, b, c, d = [0, 0], [0, 0], [0, 0], [0, 0]\n",
        "    a[0], b[0], c[0], d[0], a[1], b[1], c[1], d[1] = params\n",
        "    MSE = 0\n",
        "\n",
        "    allpredmeans = np.zeros((40,))\n",
        "\n",
        "    for iter in range(2):\n",
        "        sum_of_truePr = a[iter] + b[iter] + c[iter] + d[iter]\n",
        "        MSE += (sum_of_truePr / 100 - 1) ** 2 / 2\n",
        "\n",
        "        truePr = get_truePr_BS(a[iter], b[iter], c[iter], d[iter])\n",
        "\n",
        "        for i, trueP in enumerate(truePr):\n",
        "            if i < 4 or i >= 12:  # simple and conditionals\n",
        "                allpredmeans[i + iter * 20] = trueP * GLOBAL_N / (GLOBAL_N + 2 * GLOBAL_BETA) + GLOBAL_BETA / (\n",
        "                            GLOBAL_N + 2 * GLOBAL_BETA)\n",
        "            else:  # conjunctions and disjunctions\n",
        "                allpredmeans[i + iter * 20] = trueP * GLOBAL_N / (GLOBAL_N + 2 * GLOBAL_BETA) + GLOBAL_BETA / (\n",
        "                            GLOBAL_N + 2 * GLOBAL_BETA)\n",
        "\n",
        "    return allpredmeans, MSE\n",
        "\n",
        "# Function to calculate MSE\n",
        "def MSE_BS_fixed(params):\n",
        "    allpredmeans, MSE = generativeModel_BS_fixed(params)\n",
        "    for i in range(len(allpredmeans)):\n",
        "        currentdata = testdata[i, :].flatten()\n",
        "        MSE += np.mean((allpredmeans[i] - currentdata) ** 2) / 40\n",
        "    return MSE\n",
        "\n",
        "# Function to explore N and beta systematically\n",
        "def explore_N_beta():\n",
        "    global GLOBAL_N, GLOBAL_BETA, testdata\n",
        "\n",
        "    N_values = [1, 2, 5, 10, 50, 100]\n",
        "    beta_values = [0.1, 0.5, 1, 2, 5]\n",
        "\n",
        "    results = []\n",
        "\n",
        "    for N in N_values:\n",
        "        for beta in beta_values:\n",
        "            GLOBAL_N = N\n",
        "            GLOBAL_BETA = beta\n",
        "\n",
        "            mse_list = []\n",
        "\n",
        "            for ipar in range(10):  # Example: First 10 participants\n",
        "                testdata = pData[ipar, :, :]\n",
        "                bnds = [(0.0, 100), (0.0, 100), (0.0, 100), (0.0, 100),\n",
        "                        (0.0, 100), (0.0, 100), (0.0, 100), (0.0, 100)]\n",
        "\n",
        "                fit_all_data = differential_evolution(MSE_BS_fixed, bounds=bnds, popsize=10, disp=False, tol=1e-4)\n",
        "                mse_list.append(fit_all_data.fun)\n",
        "\n",
        "            mean_mse = np.mean(mse_list)\n",
        "            print(f\"N = {N}, Beta = {beta}, Mean MSE = {mean_mse}\")\n",
        "            results.append((N, beta, mean_mse))\n",
        "\n",
        "    return results\n",
        "\n",
        "# Function to visualize results\n",
        "def plot_results(results):\n",
        "    df = pd.DataFrame(results, columns=[\"N\", \"Beta\", \"MSE\"])\n",
        "\n",
        "    for N in df[\"N\"].unique():\n",
        "        subset = df[df[\"N\"] == N]\n",
        "        plt.plot(subset[\"Beta\"], subset[\"MSE\"], label=f\"N = {N}\")\n",
        "\n",
        "    plt.xlabel(\"Beta\")\n",
        "    plt.ylabel(\"Mean MSE\")\n",
        "    plt.title(\"Effect of N and Beta on MSE\")\n",
        "    plt.legend()\n",
        "    plt.show()\n",
        "\n",
        "# Run analysis and plot\n",
        "pData, queryOrder = clean_data()\n",
        "results = explore_N_beta()\n",
        "plot_results(results)\n"
      ],
      "metadata": {
        "colab": {
          "base_uri": "https://localhost:8080/",
          "height": 1000
        },
        "id": "EDequfnrtRrF",
        "outputId": "7b1006f3-2135-43a8-c544-a4a5a0f545c8"
      },
      "execution_count": 4,
      "outputs": [
        {
          "output_type": "stream",
          "name": "stdout",
          "text": [
            "84 participants found.\n",
            "N = 1, Beta = 0.1, Mean MSE = 0.04291801974854547\n",
            "N = 1, Beta = 0.5, Mean MSE = 0.03306668231079975\n"
          ]
        },
        {
          "output_type": "stream",
          "name": "stderr",
          "text": [
            "<ipython-input-4-942b9207a6cb>:58: RuntimeWarning: invalid value encountered in scalar divide\n",
            "  a / (a + c), c / (a + c), b / (b + d), d / (b + d)]\n"
          ]
        },
        {
          "output_type": "stream",
          "name": "stdout",
          "text": [
            "N = 1, Beta = 1, Mean MSE = 0.031133898402813644\n"
          ]
        },
        {
          "output_type": "stream",
          "name": "stderr",
          "text": [
            "<ipython-input-4-942b9207a6cb>:57: RuntimeWarning: invalid value encountered in scalar divide\n",
            "  a / (a + b), b / (a + b), c / (c + d), d / (c + d),\n"
          ]
        },
        {
          "output_type": "stream",
          "name": "stdout",
          "text": [
            "N = 1, Beta = 2, Mean MSE = 0.03231227958378652\n",
            "N = 1, Beta = 5, Mean MSE = 0.0366699258799914\n",
            "N = 2, Beta = 0.1, Mean MSE = 0.04598036180983492\n",
            "N = 2, Beta = 0.5, Mean MSE = 0.03721696705824089\n",
            "N = 2, Beta = 1, Mean MSE = 0.033066648484464736\n",
            "N = 2, Beta = 2, Mean MSE = 0.031134087635649454\n",
            "N = 2, Beta = 5, Mean MSE = 0.03323700649837971\n",
            "N = 5, Beta = 0.1, Mean MSE = 0.048269035051929754\n",
            "N = 5, Beta = 0.5, Mean MSE = 0.04291844246602339\n",
            "N = 5, Beta = 1, Mean MSE = 0.038696989970041513\n",
            "N = 5, Beta = 2, Mean MSE = 0.03425816356691802\n",
            "N = 5, Beta = 5, Mean MSE = 0.031134274851059195\n",
            "N = 10, Beta = 0.1, Mean MSE = 0.04912479558077992\n",
            "N = 10, Beta = 0.5, Mean MSE = 0.0459806773450806\n",
            "N = 10, Beta = 1, Mean MSE = 0.042918325135792634\n",
            "N = 10, Beta = 2, Mean MSE = 0.03869649660850675\n",
            "N = 10, Beta = 5, Mean MSE = 0.03306646962954586\n",
            "N = 50, Beta = 0.1, Mean MSE = 0.04984772815209791\n",
            "N = 50, Beta = 0.5, Mean MSE = 0.04912508084806423\n",
            "N = 50, Beta = 1, Mean MSE = 0.048268586083666284\n",
            "N = 50, Beta = 2, Mean MSE = 0.04670008532103565\n",
            "N = 50, Beta = 5, Mean MSE = 0.042918194539281355\n",
            "N = 100, Beta = 0.1, Mean MSE = 0.049940687027568056\n",
            "N = 100, Beta = 0.5, Mean MSE = 0.049572872341337\n",
            "N = 100, Beta = 1, Mean MSE = 0.049125083772244074\n",
            "N = 100, Beta = 2, Mean MSE = 0.04826922654579903\n",
            "N = 100, Beta = 5, Mean MSE = 0.04598042906787249\n"
          ]
        },
        {
          "output_type": "display_data",
          "data": {
            "text/plain": [
              "<Figure size 640x480 with 1 Axes>"
            ],
            "image/png": "[encoded data removed]"
          },
          "metadata": {}
        }
      ]
    }
  ],
  "metadata": {
    "kernelspec": {
      "display_name": "Python 3",
      "language": "python",
      "name": "python3"
    },
    "language_info": {
      "codemirror_mode": {
        "name": "ipython",
        "version": 2
      },
      "file_extension": ".py",
      "mimetype": "text/x-python",
      "name": "python",
      "nbconvert_exporter": "python",
      "pygments_lexer": "ipython2",
      "version": "2.7.6"
    },
    "colab": {
      "provenance": []
    }
  },
  "nbformat": 4,
  "nbformat_minor": 0
}