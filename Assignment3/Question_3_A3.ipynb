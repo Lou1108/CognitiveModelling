{
  "nbformat": 4,
  "nbformat_minor": 0,
  "metadata": {
    "colab": {
      "provenance": []
    },
    "kernelspec": {
      "name": "python3",
      "display_name": "Python 3"
    },
    "language_info": {
      "name": "python"
    }
  },
  "cells": [
    {
      "cell_type": "code",
      "execution_count": null,
      "metadata": {
        "colab": {
          "base_uri": "https://localhost:8080/"
        },
        "id": "pCIywunHVHYn",
        "outputId": "43e4d05a-db72-4596-c59a-361cc02394b5"
      },
      "outputs": [
        {
          "output_type": "stream",
          "name": "stdout",
          "text": [
            "MSE: 0.01556\n",
            "b[0]: 10.87149\n",
            "Prediction for 'cold and rainy': 0.66667\n"
          ]
        }
      ],
      "source": [
        "import numpy as np\n",
        "import pandas as pd\n",
        "from scipy.optimize import differential_evolution, fmin\n",
        "\n",
        "def clean_data_single_participant(file_path):\n",
        "    est = np.zeros((60, 3))\n",
        "    queryOrder = [\n",
        "        \" cold\", \" rainy\", \" not cold\", \" not rainy\",\n",
        "        \" cold and rainy\", \" rainy and not cold\",\n",
        "        \" cold and not rainy\", \" not cold and not rainy\",\n",
        "        \" cold or rainy\", \" rainy or not cold\",\n",
        "        \" cold or not rainy\", \" not cold or not rainy\",\n",
        "        \" cold given rainy\", \" not cold given rainy\",\n",
        "        \" cold given not rainy\", \" not cold given not rainy\",\n",
        "        \" rainy given cold\", \" not rainy given cold\",\n",
        "        \" rainy given not cold\", \" not rainy given not cold\"\n",
        "    ]\n",
        "\n",
        "    df = pd.read_csv('/content/drive/MyDrive/all_data/PrEstExp_811_111418_122039.csv')\n",
        "    for j, q in enumerate(queryOrder):\n",
        "        nowEst = df[df['querydetail'] == q]['estimate']\n",
        "        nowEstValues = nowEst.values / 100\n",
        "        for k in range(3):\n",
        "            est[j, k] = nowEstValues[k]\n",
        "\n",
        "    return est, queryOrder\n",
        "\n",
        "def get_truePr_RF(a, b, c, d):\n",
        "    base = a + b + c + d\n",
        "    truePr = [\n",
        "        (a + c) / base,\n",
        "        (a + b) / base,\n",
        "        (b + d) / base,\n",
        "        (c + d) / base,\n",
        "        a / base,\n",
        "        b / base,\n",
        "        c / base,\n",
        "        d / base,\n",
        "        (a + b + c) / base,\n",
        "        (a + b + d) / base,\n",
        "        (a + c + d) / base,\n",
        "        (b + c + d) / base,\n",
        "        (a / (a + b)),\n",
        "        (b / (a + b)),\n",
        "        (c / (c + d)),\n",
        "        (d / (c + d)),\n",
        "        (a / (a + c)),\n",
        "        (c / (a + c)),\n",
        "        (b / (b + d)),\n",
        "        (d / (b + d))\n",
        "    ]\n",
        "    return truePr\n",
        "\n",
        "def generativeModel_RF(params):\n",
        "    a, b, c, d = params\n",
        "    truePr = get_truePr_RF(a, b, c, d)\n",
        "    return truePr\n",
        "\n",
        "def MSE_RF(params, data):\n",
        "    predicted = generativeModel_RF(params)\n",
        "    mse = np.mean((np.array(predicted) - data) ** 2)\n",
        "    return mse\n",
        "\n",
        "def MSE_RF(params, data):\n",
        "    predicted = generativeModel_RF(params)\n",
        "    mse = np.mean((predicted[4] - data) ** 2)\n",
        "    return mse\n",
        "\n",
        "participant_file = '/content/PrEstExp_811_111418_122039.csv'\n",
        "data, queryOrder = clean_data_single_participant(participant_file)\n",
        "\n",
        "target_data = data[4, :]\n",
        "target_mean = np.mean(target_data)\n",
        "\n",
        "fit_result = fit_RF_model(target_data)\n",
        "mse = fit_result.fun\n",
        "parameters = fit_result.x\n",
        "\n",
        "b_0 = parameters[1]\n",
        "prediction_cold_and_rainy = generativeModel_RF(parameters)[4]\n",
        "\n",
        "print(f\"MSE: {mse:.5f}\")\n",
        "print(f\"b[0]: {b_0:.5f}\")\n",
        "print(f\"Prediction for 'cold and rainy': {prediction_cold_and_rainy:.5f}\")\n"
      ]
    }
  ]
}