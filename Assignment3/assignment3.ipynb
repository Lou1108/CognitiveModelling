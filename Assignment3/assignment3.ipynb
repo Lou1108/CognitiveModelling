{
 "cells": [
  {
   "cell_type": "markdown",
   "source": [
    "# Assignment 3"
   ],
   "metadata": {
    "collapsed": false
   }
  },
  {
   "cell_type": "code",
   "execution_count": 35,
   "outputs": [],
   "source": [
    "import numpy as np"
   ],
   "metadata": {
    "collapsed": false
   }
  },
  {
   "cell_type": "markdown",
   "source": [
    "## Section 1"
   ],
   "metadata": {
    "collapsed": false
   },
   "execution_count": 1
  },
  {
   "cell_type": "code",
   "execution_count": 8,
   "outputs": [],
   "source": [
    "# implementing bayes with two hypotheses\n",
    "def bayesFunction(p_h, p_d_h, p_d_noth):\n",
    "    marginalization = p_h*p_d_h + (1-p_h)*p_d_noth\n",
    "    p_h_d = (p_h * p_d_h)/marginalization\n",
    "    return p_h_d"
   ],
   "metadata": {
    "collapsed": false
   }
  },
  {
   "cell_type": "code",
   "execution_count": 13,
   "outputs": [
    {
     "data": {
      "text/plain": "[0.25, 0.964, 0.75, 0.047, 0.3]"
     },
     "execution_count": 13,
     "metadata": {},
     "output_type": "execute_result"
    }
   ],
   "source": [
    "# self test:\n",
    "A = bayesFunction(0.1, 0.9, 0.3)\n",
    "B = bayesFunction(0.9, 0.9, 0.3)\n",
    "C = bayesFunction(0.9, 0.3, 0.9)\n",
    "D = bayesFunction(0.001, 0.99, 0.02)\n",
    "E = bayesFunction(0.3, 0.5, 0.5)\n",
    "\n",
    "# TODO this only works when rounding\n",
    "[round(A, 3), round(B,2), round(C, 3), round(D, 3), round(E, 3)] == [0.25, 0.96, 0.75, 0.047, 0.3]"
   ],
   "metadata": {
    "collapsed": false
   }
  },
  {
   "cell_type": "code",
   "execution_count": 47,
   "outputs": [],
   "source": [
    "def bayesFunctionMultipleHypothesis(prior_probs, likelihoods):\n",
    "    \"\"\"\n",
    "\n",
    "    :param prior_probs: vector of prior probabilities of all possible hypotheses.\n",
    "    :param likelihoods: vector of all likelihood functions of the data given these hypotheses.\n",
    "    :return: vector of resulting outcomes\n",
    "    \"\"\"\n",
    "\n",
    "    denom = np.multiply(prior_probs,likelihoods)\n",
    "    num = sum(np.multiply(prior_probs,likelihoods))\n",
    "    posteriors = denom/num\n",
    "\n",
    "    return posteriors"
   ],
   "metadata": {
    "collapsed": false
   }
  },
  {
   "cell_type": "code",
   "execution_count": 50,
   "outputs": [
    {
     "name": "stdout",
     "output_type": "stream",
     "text": [
      "[0.25 0.75]   [0.96428571 0.03571429]   [0.75 0.25]   [0.0472103 0.9527897]   [0.3 0.7]   [0.54545455 0.37190083 0.08264463]   [0.52173913 0.39130435 0.08695652]   [0.43548387 0.43548387 0.12903226]   [0.65853659 0.14634146 0.19512195]   [0.66666667 0.11111111 0.11111111 0.11111111]   [0.6 0.2 0.1 0.1]   [0.62264151 0.12578616 0.12578616 0.12578616]\n"
     ]
    }
   ],
   "source": [
    "A = bayesFunctionMultipleHypothesis([0.1,0.9], [0.9, 0.3]) #0.25\n",
    "B = bayesFunctionMultipleHypothesis([0.9, 0.1], [0.9, 0.3]) #0.96\n",
    "C = bayesFunctionMultipleHypothesis([0.9, 0.1], [0.3, 0.9]) #0.75\n",
    "D = bayesFunctionMultipleHypothesis([0.001, 0.999], [0.99, 0.02]) #0.047\n",
    "E = bayesFunctionMultipleHypothesis([0.3,0.7], [0.5, 0.5]) #0.3\n",
    "F = bayesFunctionMultipleHypothesis([0.4,0.3, 0.3], [0.99, 0.9, 0.2]) #P_h1_givenD: 0.545\n",
    "G = bayesFunctionMultipleHypothesis([0.4,0.3, 0.3], [0.9, 0.9, 0.2]) #P_h1_givenD: 0.522\n",
    "H = bayesFunctionMultipleHypothesis([0.3,0.3, 0.4], [0.9, 0.9, 0.2]) #P_h1_givenD: 0.435\n",
    "I = bayesFunctionMultipleHypothesis([0.3,0.3, 0.4], [0.9, 0.2, 0.2]) #P_h1_givenD: 0.659\n",
    "J = bayesFunctionMultipleHypothesis([0.4,0.2, 0.2, 0.2], [0.9, 0.3, 0.3, 0.3]) #P_h1_givenD: 0.667\n",
    "K = bayesFunctionMultipleHypothesis([0.4,0.2, 0.2, 0.2], [0.9, 0.6, 0.3, 0.3]) #P_h1_givenD: 0.6\n",
    "L = bayesFunctionMultipleHypothesis([0.01,0.2, 0.2, 0.2], [0.99, 0.01, 0.01, 0.01]) #P_h1_givenD: 0.623\n",
    "\n",
    "print(A, \" \", B, \" \", C, \" \", D, \" \", E, \" \", F, \" \", G, \" \", H, \" \", I, \" \", J, \" \", K, \" \", L)"
   ],
   "metadata": {
    "collapsed": false
   }
  },
  {
   "cell_type": "code",
   "execution_count": 22,
   "outputs": [],
   "source": [
    "def bayesFactor(posteriors, priors):\n",
    "    if sum(posteriors) != 1:\n",
    "        raise Exception(\"The sum of all posteriors must be equal to 1!\")\n",
    "\n",
    "    # 1 vs not 1\n",
    "    bayes_factors = [(posteriors[0]*(1-priors[0]))/((1-posteriors[0])*priors[0])]\n",
    "\n",
    "    for posterior, prior in zip(posteriors[1:], priors[1:]):\n",
    "        bayes_factors.append((posteriors[0]*prior)/(posterior*priors[0]))\n",
    "\n",
    "    return bayes_factors\n"
   ],
   "metadata": {
    "collapsed": false
   }
  },
  {
   "cell_type": "code",
   "execution_count": 25,
   "outputs": [
    {
     "name": "stdout",
     "output_type": "stream",
     "text": [
      "0.05\n",
      "0.05\n",
      "[36.00000000000001, 53.99999999999999, 18.0]\n",
      "0.05\n",
      "0.1\n",
      "[22.666666666666664, 50.99999999999999, 8.499999999999998]\n",
      "0.35\n",
      "0.5\n",
      "[0.2647058823529411, 0.32142857142857145, 0.22499999999999998]\n",
      "0.15\n",
      "0.5\n",
      "[1.2564102564102562, 3.1111111111111107, 0.7]\n"
     ]
    }
   ],
   "source": [
    "bf = bayesFactor([0.9,0.05,0.05], [0.2, 0.6,0.2]) # 36, 54, 18\n",
    "print(bf)\n",
    "bf2 = bayesFactor([0.85,0.05,0.1], [0.2, 0.6,0.2]) # 22.66666667, 51, 8.5\n",
    "print(bf2)\n",
    "bf3 = bayesFactor([0.15,0.35,0.5], [0.4, 0.3,0.3]) # 0.264705882352941, 0.321428571428571, 0.225\n",
    "print(bf3)\n",
    "\n",
    "bf4 = bayesFactor([0.35,0.15,0.5], [0.3, 0.4,0.3]) # 1.25641025641026, 3.11111111111111, 0.7\n",
    "print(bf4)"
   ],
   "metadata": {
    "collapsed": false
   }
  },
  {
   "cell_type": "markdown",
   "source": [
    "### Blackboard Question 1.1"
   ],
   "metadata": {
    "collapsed": false
   }
  },
  {
   "cell_type": "markdown",
   "source": [
    "**A** Calculate the posterior value that people can see in the future under the data.\n",
    "    Assume:\n",
    "        a. The prior probability that people can see in the future is equal to not seeing in the future: 50%\n",
    "        b. The probability to observe this data under the hypothesis that people can see in the future is 0.531\n",
    "        c. The probability to observe this data under the hypothesis that people cannot see in the future is 0.52 (this captures the intuition that values around 0.5 are likely when fully guessing)"
   ],
   "metadata": {
    "collapsed": false
   }
  },
  {
   "cell_type": "code",
   "execution_count": 55,
   "outputs": [],
   "source": [
    "n = 100 # number participants\n",
    "prior = 0.5 #P(H_fut) = P(H_noFut)\n",
    "p_Future = 0.531 # hypothesis: people can see into the future; P(D|H_fut)\n",
    "p_noFuture = 0.52 # hypothesis: people cannot see into the future;  P(D|H_noFut)\n",
    "\n",
    "posterior_prob_fut = bayesFunction(prior,p_Future,p_noFuture) # P(H_fut|D)\n",
    "posterior_prob_nofut = bayesFunction(prior,p_noFuture,p_Future) # P(H_noFut|D)\n",
    "\n",
    "# TODO check which one to note down\n",
    "print(\"The Posterior Probability is: \", posterior_prob_fut)"
   ],
   "metadata": {
    "collapsed": false
   }
  },
  {
   "cell_type": "markdown",
   "source": [
    "**B** What is the Bayes factor? (BFpeople can see in the future, not see in the future)"
   ],
   "metadata": {
    "collapsed": false
   }
  },
  {
   "cell_type": "code",
   "execution_count": 61,
   "outputs": [
    {
     "name": "stdout",
     "output_type": "stream",
     "text": [
      "0.49476688867745\n"
     ]
    }
   ],
   "source": [
    "bf = bayesFactor([round(posterior_prob_fut, 14), round(posterior_prob_nofut, 14)], [prior, prior])  # TODO check which needs to be first"
   ],
   "metadata": {
    "collapsed": false
   }
  },
  {
   "cell_type": "markdown",
   "source": [
    "C. Eric-Jan, a more skeptic researcher, thinks the prior probability that people can look into the future is 0.001. What are the posterior odds for such a skeptic researcher?"
   ],
   "metadata": {
    "collapsed": false
   }
  },
  {
   "cell_type": "code",
   "execution_count": null,
   "outputs": [],
   "source": [
    "# P(H|D)/P(!H|D)\n",
    "p_Future_skeptic = 0.001 # hypothesis: people can see into the future; P(D|H_fut)\n",
    "# TODO"
   ],
   "metadata": {
    "collapsed": false
   }
  },
  {
   "cell_type": "markdown",
   "source": [
    "D. The experiment is replicated three times by different researchers, independently. So, the conditional probabilities are estimated independently. The priors are updated based on the outcomes of earlier experiments, starting with the outcome of the initial experiment. The relevant other data is in the table below. For each experiment give the new posteriors of P(Hpeople see in the future | Data)"
   ],
   "metadata": {
    "collapsed": false
   }
  },
  {
   "cell_type": "code",
   "execution_count": null,
   "outputs": [],
   "source": [
    "posterior_exp2 = bayesFunction(prior,0.471,0.520) # P(H_fut|D)\n",
    "posterior_exp3 = bayesFunction(prior,0.491,0.65) # P(H_fut|D)\n",
    "posterior_exp4 = bayesFunction(prior,0.505,0.70) # P(H_fut|D)\n"
   ],
   "metadata": {
    "collapsed": false
   }
  },
  {
   "cell_type": "markdown",
   "source": [
    "**E** Using the Bayes Factor, argue briefly whether the data convinces that people can look into the future."
   ],
   "metadata": {
    "collapsed": false
   }
  },
  {
   "cell_type": "code",
   "execution_count": null,
   "outputs": [],
   "source": [
    "# TODO bf_experiments = bayesFactor([0.471])"
   ],
   "metadata": {
    "collapsed": false
   }
  }
 ],
 "metadata": {
  "kernelspec": {
   "display_name": "Python 3",
   "language": "python",
   "name": "python3"
  },
  "language_info": {
   "codemirror_mode": {
    "name": "ipython",
    "version": 2
   },
   "file_extension": ".py",
   "mimetype": "text/x-python",
   "name": "python",
   "nbconvert_exporter": "python",
   "pygments_lexer": "ipython2",
   "version": "2.7.6"
  }
 },
 "nbformat": 4,
 "nbformat_minor": 0
}
