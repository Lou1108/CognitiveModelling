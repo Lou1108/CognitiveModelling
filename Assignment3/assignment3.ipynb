{
 "cells": [
  {
   "cell_type": "markdown",
   "source": [
    "# Assignment 3"
   ],
   "metadata": {
    "collapsed": false
   }
  },
  {
   "cell_type": "code",
   "execution_count": 14,
   "outputs": [],
   "source": [
    "import numpy as np"
   ],
   "metadata": {
    "collapsed": false
   }
  },
  {
   "cell_type": "markdown",
   "source": [
    "## Section 1"
   ],
   "metadata": {
    "collapsed": false
   },
   "execution_count": 1
  },
  {
   "cell_type": "code",
   "execution_count": 15,
   "outputs": [],
   "source": [
    "# implementing bayes with two hypotheses\n",
    "def bayesFunction(p_h, p_d_h, p_d_noth):\n",
    "    marginalization = p_h*p_d_h + (1-p_h)*p_d_noth\n",
    "    p_h_d = (p_h * p_d_h)/marginalization\n",
    "    return p_h_d"
   ],
   "metadata": {
    "collapsed": false
   }
  },
  {
   "cell_type": "code",
   "execution_count": 16,
   "outputs": [
    {
     "data": {
      "text/plain": "True"
     },
     "execution_count": 16,
     "metadata": {},
     "output_type": "execute_result"
    }
   ],
   "source": [
    "# self test:\n",
    "A = bayesFunction(0.1, 0.9, 0.3)\n",
    "B = bayesFunction(0.9, 0.9, 0.3)\n",
    "C = bayesFunction(0.9, 0.3, 0.9)\n",
    "D = bayesFunction(0.001, 0.99, 0.02)\n",
    "E = bayesFunction(0.3, 0.5, 0.5)\n",
    "\n",
    "# TODO this only works when rounding\n",
    "[round(A, 3), round(B,2), round(C, 3), round(D, 3), round(E, 3)] == [0.25, 0.96, 0.75, 0.047, 0.3]"
   ],
   "metadata": {
    "collapsed": false
   }
  },
  {
   "cell_type": "code",
   "execution_count": 17,
   "outputs": [],
   "source": [
    "def bayesFunctionMultipleHypothesis(prior_probs, likelihoods):\n",
    "    \"\"\"\n",
    "\n",
    "    :param prior_probs: vector of prior probabilities of all possible hypotheses.\n",
    "    :param likelihoods: vector of all likelihood functions of the data given these hypotheses.\n",
    "    :return: vector of resulting outcomes\n",
    "    \"\"\"\n",
    "\n",
    "    denom = np.multiply(prior_probs,likelihoods)\n",
    "    num = sum(np.multiply(prior_probs,likelihoods))\n",
    "    posteriors = denom/num\n",
    "\n",
    "    return posteriors"
   ],
   "metadata": {
    "collapsed": false
   }
  },
  {
   "cell_type": "code",
   "execution_count": 18,
   "outputs": [
    {
     "name": "stdout",
     "output_type": "stream",
     "text": [
      "[0.25 0.75]   [0.96428571 0.03571429]   [0.75 0.25]   [0.0472103 0.9527897]   [0.3 0.7]   [0.54545455 0.37190083 0.08264463]   [0.52173913 0.39130435 0.08695652]   [0.43548387 0.43548387 0.12903226]   [0.65853659 0.14634146 0.19512195]   [0.66666667 0.11111111 0.11111111 0.11111111]   [0.6 0.2 0.1 0.1]   [0.62264151 0.12578616 0.12578616 0.12578616]\n"
     ]
    }
   ],
   "source": [
    "A = bayesFunctionMultipleHypothesis([0.1,0.9], [0.9, 0.3]) #0.25\n",
    "B = bayesFunctionMultipleHypothesis([0.9, 0.1], [0.9, 0.3]) #0.96\n",
    "C = bayesFunctionMultipleHypothesis([0.9, 0.1], [0.3, 0.9]) #0.75\n",
    "D = bayesFunctionMultipleHypothesis([0.001, 0.999], [0.99, 0.02]) #0.047\n",
    "E = bayesFunctionMultipleHypothesis([0.3,0.7], [0.5, 0.5]) #0.3\n",
    "F = bayesFunctionMultipleHypothesis([0.4,0.3, 0.3], [0.99, 0.9, 0.2]) #P_h1_givenD: 0.545\n",
    "G = bayesFunctionMultipleHypothesis([0.4,0.3, 0.3], [0.9, 0.9, 0.2]) #P_h1_givenD: 0.522\n",
    "H = bayesFunctionMultipleHypothesis([0.3,0.3, 0.4], [0.9, 0.9, 0.2]) #P_h1_givenD: 0.435\n",
    "I = bayesFunctionMultipleHypothesis([0.3,0.3, 0.4], [0.9, 0.2, 0.2]) #P_h1_givenD: 0.659\n",
    "J = bayesFunctionMultipleHypothesis([0.4,0.2, 0.2, 0.2], [0.9, 0.3, 0.3, 0.3]) #P_h1_givenD: 0.667\n",
    "K = bayesFunctionMultipleHypothesis([0.4,0.2, 0.2, 0.2], [0.9, 0.6, 0.3, 0.3]) #P_h1_givenD: 0.6\n",
    "L = bayesFunctionMultipleHypothesis([0.01,0.2, 0.2, 0.2], [0.99, 0.01, 0.01, 0.01]) #P_h1_givenD: 0.623\n",
    "\n",
    "print(A, \" \", B, \" \", C, \" \", D, \" \", E, \" \", F, \" \", G, \" \", H, \" \", I, \" \", J, \" \", K, \" \", L)"
   ],
   "metadata": {
    "collapsed": false
   }
  },
  {
   "cell_type": "code",
   "execution_count": 19,
   "outputs": [],
   "source": [
    "def bayesFactor(posteriors, priors):\n",
    "    if sum(posteriors) != 1:\n",
    "        raise Exception(\"The sum of all posteriors must be equal to 1!\")\n",
    "\n",
    "    # 1 vs not 1\n",
    "    bayes_factors = [(posteriors[0]*(1-priors[0]))/((1-posteriors[0])*priors[0])]\n",
    "\n",
    "    for posterior, prior in zip(posteriors[1:], priors[1:]):\n",
    "        bayes_factors.append((posteriors[0]*prior)/(posterior*priors[0]))\n",
    "\n",
    "    return bayes_factors\n"
   ],
   "metadata": {
    "collapsed": false
   }
  },
  {
   "cell_type": "code",
   "execution_count": 20,
   "outputs": [
    {
     "name": "stdout",
     "output_type": "stream",
     "text": [
      "[36.00000000000001, 53.99999999999999, 18.0]\n",
      "[22.666666666666664, 50.99999999999999, 8.499999999999998]\n",
      "[0.2647058823529411, 0.32142857142857145, 0.22499999999999998]\n",
      "[1.2564102564102562, 3.1111111111111107, 0.7]\n"
     ]
    }
   ],
   "source": [
    "bf = bayesFactor([0.9,0.05,0.05], [0.2, 0.6,0.2]) # 36, 54, 18\n",
    "print(bf)\n",
    "bf2 = bayesFactor([0.85,0.05,0.1], [0.2, 0.6,0.2]) # 22.66666667, 51, 8.5\n",
    "print(bf2)\n",
    "bf3 = bayesFactor([0.15,0.35,0.5], [0.4, 0.3,0.3]) # 0.264705882352941, 0.321428571428571, 0.225\n",
    "print(bf3)\n",
    "\n",
    "bf4 = bayesFactor([0.35,0.15,0.5], [0.3, 0.4,0.3]) # 1.25641025641026, 3.11111111111111, 0.7\n",
    "print(bf4)"
   ],
   "metadata": {
    "collapsed": false
   }
  },
  {
   "cell_type": "markdown",
   "source": [
    "### Blackboard Question 1.1"
   ],
   "metadata": {
    "collapsed": false
   }
  },
  {
   "cell_type": "markdown",
   "source": [
    "**A** Calculate the posterior value that people can see in the future under the data.\n",
    "    Assume:\n",
    "        a. The prior probability that people can see in the future is equal to not seeing in the future: 50%\n",
    "        b. The probability to observe this data under the hypothesis that people can see in the future is 0.531\n",
    "        c. The probability to observe this data under the hypothesis that people cannot see in the future is 0.52 (this captures the intuition that values around 0.5 are likely when fully guessing)"
   ],
   "metadata": {
    "collapsed": false
   }
  },
  {
   "cell_type": "code",
   "execution_count": 21,
   "outputs": [
    {
     "name": "stdout",
     "output_type": "stream",
     "text": [
      "The Posterior Probability is:  0.5052331113225499\n"
     ]
    }
   ],
   "source": [
    "n = 100 # number participants\n",
    "prior = 0.5 #P(H_fut) = P(H_noFut)\n",
    "p_Future = 0.531 # hypothesis: people can see into the future; P(D|H_fut)\n",
    "p_noFuture = 0.52 # hypothesis: people cannot see into the future;  P(D|H_noFut)\n",
    "\n",
    "posterior_exp1 = bayesFunction(prior,p_Future,p_noFuture) # P(H_fut|D)\n",
    "posterior_exp1_nofut = bayesFunction(prior,p_noFuture,p_Future) # P(H_noFut|D)\n",
    "\n",
    "print(\"The Posterior Probability is: \", posterior_exp1)"
   ],
   "metadata": {
    "collapsed": false
   }
  },
  {
   "cell_type": "markdown",
   "source": [
    "**B** What is the Bayes factor? (BFpeople can see in the future, not see in the future)"
   ],
   "metadata": {
    "collapsed": false
   }
  },
  {
   "cell_type": "code",
   "execution_count": 22,
   "outputs": [
    {
     "name": "stdout",
     "output_type": "stream",
     "text": [
      "Bayes Factor:  [1.0211538461538463, 1.0211538461538463]\n"
     ]
    }
   ],
   "source": [
    "bf = bayesFactor([round(posterior_exp1, 14), round(posterior_exp1_nofut, 14)], [prior, prior])\n",
    "\n",
    "print(\"Bayes Factor: \", bf)"
   ],
   "metadata": {
    "collapsed": false
   }
  },
  {
   "cell_type": "markdown",
   "source": [
    "C. Eric-Jan, a more skeptic researcher, thinks the prior probability that people can look into the future is 0.001. What are the posterior odds for such a skeptic researcher?"
   ],
   "metadata": {
    "collapsed": false
   }
  },
  {
   "cell_type": "code",
   "execution_count": 23,
   "outputs": [
    {
     "name": "stdout",
     "output_type": "stream",
     "text": [
      "The posterior odds are:  0.0010221760221760222\n"
     ]
    }
   ],
   "source": [
    "prior_skeptic = 0.001 # hypothesis: people can see into the future; P(D|H_fut)\n",
    "\n",
    "\n",
    "posterior_skeptic = bayesFunction(prior_skeptic,p_Future,p_noFuture) # P(H_fut|D)\n",
    "posterior_skeptic_nofut = bayesFunction(1-prior_skeptic,p_noFuture,p_Future) # P(H_noFut|D)\n",
    "\n",
    "# P(H|D)/P(!H|D)\n",
    "posterior_odds = posterior_skeptic/posterior_skeptic_nofut\n",
    "\n",
    "print(\"The posterior odds are: \", posterior_odds)"
   ],
   "metadata": {
    "collapsed": false
   }
  },
  {
   "cell_type": "markdown",
   "source": [
    "D. The experiment is replicated three times by different researchers, independently. So, the conditional probabilities are estimated independently. The priors are updated based on the outcomes of earlier experiments, starting with the outcome of the initial experiment. The relevant other data is in the table below. For each experiment give the new posteriors of P(Hpeople see in the future | Data)"
   ],
   "metadata": {
    "collapsed": false
   }
  },
  {
   "cell_type": "code",
   "execution_count": 24,
   "outputs": [
    {
     "name": "stdout",
     "output_type": "stream",
     "text": [
      "2:  0.48050051777037883\n",
      "3:  0.4113068034046174\n",
      "4:  0.3351267396958185\n"
     ]
    }
   ],
   "source": [
    "posterior_exp2 = bayesFunction(posterior_exp1,0.471,0.520) # P(H_fut|D)\n",
    "posterior_exp3 = bayesFunction(posterior_exp2,0.491,0.65) # P(H_fut|D)\n",
    "posterior_exp4 = bayesFunction(posterior_exp3,0.505,0.70) # P(H_fut|D)\n",
    "\n",
    "print(\"2: \", posterior_exp2)\n",
    "print(\"3: \", posterior_exp3)\n",
    "print(\"4: \", posterior_exp4)"
   ],
   "metadata": {
    "collapsed": false
   }
  },
  {
   "cell_type": "markdown",
   "source": [
    "**E.**  Using the Bayes Factor, argue briefly whether the data convinces that people can look into the future."
   ],
   "metadata": {
    "collapsed": false
   }
  },
  {
   "cell_type": "code",
   "execution_count": 32,
   "outputs": [
    {
     "name": "stdout",
     "output_type": "stream",
     "text": [
      "BF 2:  0.9057692307692307\n",
      "BF 3:  0.7553846153846153\n",
      "BF 4:  0.7214285714285715\n"
     ]
    }
   ],
   "source": [
    "bf_2 = 0.471/0.520\n",
    "bf_3 = 0.491/0.65\n",
    "bf_4 = 0.505/0.7\n",
    "\n",
    "print(\"BF 2: \", bf_2)\n",
    "print(\"BF 3: \", bf_3)\n",
    "print(\"BF 4: \", bf_4)"
   ],
   "metadata": {
    "collapsed": false
   }
  },
  {
   "cell_type": "markdown",
   "source": [
    "# Section 3"
   ],
   "metadata": {
    "collapsed": false
   }
  },
  {
   "cell_type": "code",
   "execution_count": 11,
   "outputs": [
    {
     "name": "stdout",
     "output_type": "stream",
     "text": [
      "84  participants were considered!\n",
      "+++++++++++++++++++++++++++++++++++++++++++++++++++++++\n",
      "Processing Participant No.1 all_data/PrEstExp_603_111318_154818.csv\n",
      "________________________________________________________\n",
      "Processing Participant No.2 all_data/PrEstExp_811_111418_122039.csv\n",
      "________________________________________________________\n",
      "Processing Participant No.3 all_data/PrEstExp_305_111318_125448.csv\n",
      "________________________________________________________\n",
      "Processing Participant No.4 all_data/PrEstExp_904_111418_132622.csv\n",
      "________________________________________________________\n",
      "Processing Participant No.5 all_data/PrEstExp_110_111218_135256.csv\n",
      "________________________________________________________\n",
      "Processing Participant No.6 all_data/PrEstExp_914_111418_143014.csv\n",
      "________________________________________________________\n",
      "Processing Participant No.7 all_data/PrEstExp_709_111418_111137.csv\n",
      "________________________________________________________\n",
      "Processing Participant No.8 all_data/PrEstExp_208_111318_114852.csv\n",
      "________________________________________________________\n",
      "Processing Participant No.9 all_data/PrEstExp_708_111418_111135.csv\n",
      "________________________________________________________\n",
      "Processing Participant No.10 all_data/PrEstExp_108_111218_135241.csv\n",
      "________________________________________________________\n",
      "Processing Participant No.11 all_data/PrEstExp_510_111318_150032.csv\n",
      "________________________________________________________\n",
      "Processing Participant No.12 all_data/PrEstExp_511_111318_150034.csv\n",
      "________________________________________________________\n",
      "Processing Participant No.13 all_data/PrEstExp_808_111418_122014.csv\n",
      "________________________________________________________\n",
      "Processing Participant No.14 all_data/PrEstExp_409_111318_135858.csv\n",
      "________________________________________________________\n",
      "Processing Participant No.15 all_data/PrEstExp_201_111318_114720.csv\n",
      "________________________________________________________\n",
      "Processing Participant No.16 all_data/PrEstExp_801_111418_121921.csv\n",
      "________________________________________________________\n",
      "Processing Participant No.17 all_data/PrEstExp_406_111318_135832.csv\n",
      "________________________________________________________\n",
      "Processing Participant No.18 all_data/PrEstExp_411_111318_140804.csv\n",
      "________________________________________________________\n",
      "Processing Participant No.19 all_data/PrEstExp_310_111318_125521.csv\n",
      "________________________________________________________\n",
      "Processing Participant No.20 all_data/PrEstExp_410_111318_135904.csv\n",
      "________________________________________________________\n",
      "Processing Participant No.21 all_data/PrEstExp_705_111418_111117.csv\n",
      "________________________________________________________\n",
      "Processing Participant No.22 all_data/PrEstExp_102_111218_135148.csv\n",
      "________________________________________________________\n",
      "Processing Participant No.23 all_data/PrEstExp_003_111218_115950.csv\n",
      "________________________________________________________\n",
      "Processing Participant No.24 all_data/PrEstExp_903_111418_132557.csv\n",
      "________________________________________________________\n",
      "Processing Participant No.25 all_data/PrEstExp_905_111418_132653.csv\n",
      "________________________________________________________\n",
      "Processing Participant No.26 all_data/PrEstExp_605_111318_154836.csv\n",
      "________________________________________________________\n",
      "Processing Participant No.27 all_data/PrEstExp_703_111418_111048.csv\n",
      "________________________________________________________\n",
      "Processing Participant No.28 all_data/PrEstExp_105_111218_135212.csv\n",
      "________________________________________________________\n",
      "Processing Participant No.29 all_data/PrEstExp_912_111418_143010.csv\n",
      "________________________________________________________\n",
      "Processing Participant No.30 all_data/PrEstExp_404_111318_135823.csv\n",
      "________________________________________________________\n",
      "Processing Participant No.31 all_data/PrEstExp_803_111418_121924.csv\n",
      "________________________________________________________\n",
      "Processing Participant No.32 all_data/PrEstExp_804_111418_121944.csv\n",
      "________________________________________________________\n",
      "Processing Participant No.33 all_data/PrEstExp_010_111218_120038.csv\n",
      "________________________________________________________\n",
      "Processing Participant No.34 all_data/PrEstExp_807_111418_122009.csv\n",
      "________________________________________________________\n",
      "Processing Participant No.35 all_data/PrEstExp_001_111218_115935.csv\n",
      "________________________________________________________\n",
      "Processing Participant No.36 all_data/PrEstExp_104_111218_135205.csv\n",
      "________________________________________________________\n",
      "Processing Participant No.37 all_data/PrEstExp_601_111318_154758.csv\n",
      "________________________________________________________\n",
      "Processing Participant No.38 all_data/PrEstExp_710_111418_111151.csv\n",
      "________________________________________________________\n",
      "Processing Participant No.39 all_data/PrEstExp_901_111418_132518.csv\n",
      "________________________________________________________\n",
      "Processing Participant No.40 all_data/PrEstExp_802_111418_121930.csv\n",
      "________________________________________________________\n",
      "Processing Participant No.41 all_data/PrEstExp_806_111418_122000.csv\n",
      "________________________________________________________\n",
      "Processing Participant No.42 all_data/PrEstExp_906_111418_132944.csv\n",
      "________________________________________________________\n",
      "Processing Participant No.43 all_data/PrEstExp_503_111318_145942.csv\n",
      "________________________________________________________\n",
      "Processing Participant No.44 all_data/PrEstExp_711_111418_111158.csv\n",
      "________________________________________________________\n",
      "Processing Participant No.45 all_data/PrEstExp_203_111318_114739.csv\n",
      "________________________________________________________\n",
      "Processing Participant No.46 all_data/PrEstExp_005_111218_120004.csv\n",
      "________________________________________________________\n",
      "Processing Participant No.47 all_data/PrEstExp_707_111418_111131.csv\n",
      "________________________________________________________\n",
      "Processing Participant No.48 all_data/PrEstExp_706_111418_111123.csv\n",
      "________________________________________________________\n",
      "Processing Participant No.49 all_data/PrEstExp_908_111418_132718.csv\n",
      "________________________________________________________\n",
      "Processing Participant No.50 all_data/PrEstExp_008_111218_120025.csv\n",
      "________________________________________________________\n",
      "Processing Participant No.51 all_data/PrEstExp_702_111418_111052.csv\n",
      "________________________________________________________\n",
      "Processing Participant No.52 all_data/PrEstExp_501_111318_145930.csv\n",
      "________________________________________________________\n",
      "Processing Participant No.53 all_data/PrEstExp_604_111318_154828.csv\n",
      "________________________________________________________\n",
      "Processing Participant No.54 all_data/PrEstExp_902_111418_132601.csv\n",
      "________________________________________________________\n",
      "Processing Participant No.55 all_data/PrEstExp_401_111318_135805.csv\n",
      "________________________________________________________\n",
      "Processing Participant No.56 all_data/PrEstExp_909_111418_132726.csv\n",
      "________________________________________________________\n",
      "Processing Participant No.57 all_data/PrEstExp_405_111318_135829.csv\n",
      "________________________________________________________\n",
      "Processing Participant No.58 all_data/PrEstExp_606_111318_154848.csv\n",
      "________________________________________________________\n",
      "Processing Participant No.59 all_data/PrEstExp_009_111218_120030.csv\n",
      "________________________________________________________\n",
      "Processing Participant No.60 all_data/PrEstExp_402_111318_135811.csv\n",
      "________________________________________________________\n",
      "Processing Participant No.61 all_data/PrEstExp_109_111218_135248.csv\n",
      "________________________________________________________\n",
      "Processing Participant No.62 all_data/PrEstExp_107_111218_135230.csv\n",
      "________________________________________________________\n",
      "Processing Participant No.63 all_data/PrEstExp_704_111418_111108.csv\n",
      "________________________________________________________\n",
      "Processing Participant No.64 all_data/PrEstExp_103_111218_135156.csv\n",
      "________________________________________________________\n",
      "Processing Participant No.65 all_data/PrEstExp_701_111418_111041.csv\n",
      "________________________________________________________\n",
      "Processing Participant No.66 all_data/PrEstExp_407_111318_135839.csv\n",
      "________________________________________________________\n",
      "Processing Participant No.67 all_data/PrEstExp_101_111218_135137.csv\n",
      "________________________________________________________\n",
      "Processing Participant No.68 all_data/PrEstExp_408_111318_135853.csv\n",
      "________________________________________________________\n",
      "Processing Participant No.69 all_data/PrEstExp_004_111218_115958.csv\n",
      "________________________________________________________\n",
      "Processing Participant No.70 all_data/PrEstExp_403_111318_135815.csv\n",
      "________________________________________________________\n",
      "Processing Participant No.71 all_data/PrEstExp_910_111418_132743.csv\n",
      "________________________________________________________\n",
      "Processing Participant No.72 all_data/PrEstExp_303_111318_125434.csv\n",
      "________________________________________________________\n",
      "Processing Participant No.73 all_data/PrEstExp_006_111218_120007.csv\n",
      "________________________________________________________\n",
      "Processing Participant No.74 all_data/PrEstExp_602_111318_154810.csv\n",
      "________________________________________________________\n",
      "Processing Participant No.75 all_data/PrEstExp_309_111318_125514.csv\n",
      "________________________________________________________\n",
      "Processing Participant No.76 all_data/PrEstExp_502_111318_145937.csv\n",
      "________________________________________________________\n",
      "Processing Participant No.77 all_data/PrEstExp_911_111418_132754.csv\n",
      "________________________________________________________\n",
      "Processing Participant No.78 all_data/PrEstExp_505_111318_145955.csv\n",
      "________________________________________________________\n",
      "Processing Participant No.79 all_data/PrEstExp_308_111318_125510.csv\n",
      "________________________________________________________\n",
      "Processing Participant No.80 all_data/PrEstExp_007_111218_120016.csv\n",
      "________________________________________________________\n",
      "Processing Participant No.81 all_data/PrEstExp_810_111418_122033.csv\n",
      "________________________________________________________\n",
      "Processing Participant No.82 all_data/PrEstExp_809_111418_122019.csv\n",
      "________________________________________________________\n",
      "Processing Participant No.83 all_data/PrEstExp_304_111318_125442.csv\n",
      "________________________________________________________\n",
      "Processing Participant No.84 all_data/PrEstExp_508_111318_150015.csv\n",
      "________________________________________________________\n",
      "84  participants were considered!\n",
      "+++++++++++++++++++++++++++++++++++++++++++++++++++++++\n",
      "Processing Participant No.1 all_data/PrEstExp_603_111318_154818.csv\n",
      "________________________________________________________\n",
      "Processing Participant No.2 all_data/PrEstExp_811_111418_122039.csv\n",
      "________________________________________________________\n",
      "Processing Participant No.3 all_data/PrEstExp_305_111318_125448.csv\n",
      "________________________________________________________\n",
      "Processing Participant No.4 all_data/PrEstExp_904_111418_132622.csv\n",
      "________________________________________________________\n",
      "Processing Participant No.5 all_data/PrEstExp_110_111218_135256.csv\n",
      "________________________________________________________\n",
      "Processing Participant No.6 all_data/PrEstExp_914_111418_143014.csv\n",
      "________________________________________________________\n",
      "Processing Participant No.7 all_data/PrEstExp_709_111418_111137.csv\n",
      "________________________________________________________\n",
      "Processing Participant No.8 all_data/PrEstExp_208_111318_114852.csv\n",
      "________________________________________________________\n",
      "Processing Participant No.9 all_data/PrEstExp_708_111418_111135.csv\n",
      "________________________________________________________\n",
      "Processing Participant No.10 all_data/PrEstExp_108_111218_135241.csv\n",
      "________________________________________________________\n",
      "Processing Participant No.11 all_data/PrEstExp_510_111318_150032.csv\n",
      "________________________________________________________\n",
      "Processing Participant No.12 all_data/PrEstExp_511_111318_150034.csv\n",
      "________________________________________________________\n",
      "Processing Participant No.13 all_data/PrEstExp_808_111418_122014.csv\n",
      "________________________________________________________\n",
      "Processing Participant No.14 all_data/PrEstExp_409_111318_135858.csv\n",
      "________________________________________________________\n",
      "Processing Participant No.15 all_data/PrEstExp_201_111318_114720.csv\n",
      "________________________________________________________\n",
      "Processing Participant No.16 all_data/PrEstExp_801_111418_121921.csv\n",
      "________________________________________________________\n",
      "Processing Participant No.17 all_data/PrEstExp_406_111318_135832.csv\n",
      "________________________________________________________\n",
      "Processing Participant No.18 all_data/PrEstExp_411_111318_140804.csv\n",
      "________________________________________________________\n",
      "Processing Participant No.19 all_data/PrEstExp_310_111318_125521.csv\n",
      "________________________________________________________\n",
      "Processing Participant No.20 all_data/PrEstExp_410_111318_135904.csv\n",
      "________________________________________________________\n",
      "Processing Participant No.21 all_data/PrEstExp_705_111418_111117.csv\n",
      "________________________________________________________\n",
      "Processing Participant No.22 all_data/PrEstExp_102_111218_135148.csv\n",
      "________________________________________________________\n",
      "Processing Participant No.23 all_data/PrEstExp_003_111218_115950.csv\n",
      "________________________________________________________\n",
      "Processing Participant No.24 all_data/PrEstExp_903_111418_132557.csv\n",
      "________________________________________________________\n",
      "Processing Participant No.25 all_data/PrEstExp_905_111418_132653.csv\n",
      "________________________________________________________\n",
      "Processing Participant No.26 all_data/PrEstExp_605_111318_154836.csv\n",
      "________________________________________________________\n",
      "Processing Participant No.27 all_data/PrEstExp_703_111418_111048.csv\n",
      "________________________________________________________\n",
      "Processing Participant No.28 all_data/PrEstExp_105_111218_135212.csv\n",
      "________________________________________________________\n",
      "Processing Participant No.29 all_data/PrEstExp_912_111418_143010.csv\n",
      "________________________________________________________\n",
      "Processing Participant No.30 all_data/PrEstExp_404_111318_135823.csv\n",
      "________________________________________________________\n",
      "Processing Participant No.31 all_data/PrEstExp_803_111418_121924.csv\n",
      "________________________________________________________\n",
      "Processing Participant No.32 all_data/PrEstExp_804_111418_121944.csv\n",
      "________________________________________________________\n",
      "Processing Participant No.33 all_data/PrEstExp_010_111218_120038.csv\n",
      "________________________________________________________\n",
      "Processing Participant No.34 all_data/PrEstExp_807_111418_122009.csv\n",
      "________________________________________________________\n",
      "Processing Participant No.35 all_data/PrEstExp_001_111218_115935.csv\n",
      "________________________________________________________\n",
      "Processing Participant No.36 all_data/PrEstExp_104_111218_135205.csv\n",
      "________________________________________________________\n",
      "Processing Participant No.37 all_data/PrEstExp_601_111318_154758.csv\n",
      "________________________________________________________\n",
      "Processing Participant No.38 all_data/PrEstExp_710_111418_111151.csv\n",
      "________________________________________________________\n",
      "Processing Participant No.39 all_data/PrEstExp_901_111418_132518.csv\n",
      "________________________________________________________\n",
      "Processing Participant No.40 all_data/PrEstExp_802_111418_121930.csv\n",
      "________________________________________________________\n",
      "Processing Participant No.41 all_data/PrEstExp_806_111418_122000.csv\n",
      "________________________________________________________\n",
      "Processing Participant No.42 all_data/PrEstExp_906_111418_132944.csv\n",
      "________________________________________________________\n",
      "Processing Participant No.43 all_data/PrEstExp_503_111318_145942.csv\n",
      "________________________________________________________\n",
      "Processing Participant No.44 all_data/PrEstExp_711_111418_111158.csv\n",
      "________________________________________________________\n",
      "Processing Participant No.45 all_data/PrEstExp_203_111318_114739.csv\n",
      "________________________________________________________\n",
      "Processing Participant No.46 all_data/PrEstExp_005_111218_120004.csv\n",
      "________________________________________________________\n",
      "Processing Participant No.47 all_data/PrEstExp_707_111418_111131.csv\n",
      "________________________________________________________\n",
      "Processing Participant No.48 all_data/PrEstExp_706_111418_111123.csv\n",
      "________________________________________________________\n",
      "Processing Participant No.49 all_data/PrEstExp_908_111418_132718.csv\n",
      "________________________________________________________\n",
      "Processing Participant No.50 all_data/PrEstExp_008_111218_120025.csv\n",
      "________________________________________________________\n",
      "Processing Participant No.51 all_data/PrEstExp_702_111418_111052.csv\n",
      "________________________________________________________\n",
      "Processing Participant No.52 all_data/PrEstExp_501_111318_145930.csv\n",
      "________________________________________________________\n",
      "Processing Participant No.53 all_data/PrEstExp_604_111318_154828.csv\n",
      "________________________________________________________\n",
      "Processing Participant No.54 all_data/PrEstExp_902_111418_132601.csv\n",
      "________________________________________________________\n",
      "Processing Participant No.55 all_data/PrEstExp_401_111318_135805.csv\n",
      "________________________________________________________\n",
      "Processing Participant No.56 all_data/PrEstExp_909_111418_132726.csv\n",
      "________________________________________________________\n",
      "Processing Participant No.57 all_data/PrEstExp_405_111318_135829.csv\n",
      "________________________________________________________\n",
      "Processing Participant No.58 all_data/PrEstExp_606_111318_154848.csv\n",
      "________________________________________________________\n",
      "Processing Participant No.59 all_data/PrEstExp_009_111218_120030.csv\n",
      "________________________________________________________\n",
      "Processing Participant No.60 all_data/PrEstExp_402_111318_135811.csv\n",
      "________________________________________________________\n",
      "Processing Participant No.61 all_data/PrEstExp_109_111218_135248.csv\n",
      "________________________________________________________\n",
      "Processing Participant No.62 all_data/PrEstExp_107_111218_135230.csv\n",
      "________________________________________________________\n",
      "Processing Participant No.63 all_data/PrEstExp_704_111418_111108.csv\n",
      "________________________________________________________\n",
      "Processing Participant No.64 all_data/PrEstExp_103_111218_135156.csv\n",
      "________________________________________________________\n",
      "Processing Participant No.65 all_data/PrEstExp_701_111418_111041.csv\n",
      "________________________________________________________\n",
      "Processing Participant No.66 all_data/PrEstExp_407_111318_135839.csv\n",
      "________________________________________________________\n",
      "Processing Participant No.67 all_data/PrEstExp_101_111218_135137.csv\n",
      "________________________________________________________\n",
      "Processing Participant No.68 all_data/PrEstExp_408_111318_135853.csv\n",
      "________________________________________________________\n",
      "Processing Participant No.69 all_data/PrEstExp_004_111218_115958.csv\n",
      "________________________________________________________\n",
      "Processing Participant No.70 all_data/PrEstExp_403_111318_135815.csv\n",
      "________________________________________________________\n",
      "Processing Participant No.71 all_data/PrEstExp_910_111418_132743.csv\n",
      "________________________________________________________\n",
      "Processing Participant No.72 all_data/PrEstExp_303_111318_125434.csv\n",
      "________________________________________________________\n",
      "Processing Participant No.73 all_data/PrEstExp_006_111218_120007.csv\n",
      "________________________________________________________\n",
      "Processing Participant No.74 all_data/PrEstExp_602_111318_154810.csv\n",
      "________________________________________________________\n",
      "Processing Participant No.75 all_data/PrEstExp_309_111318_125514.csv\n",
      "________________________________________________________\n",
      "Processing Participant No.76 all_data/PrEstExp_502_111318_145937.csv\n",
      "________________________________________________________\n",
      "Processing Participant No.77 all_data/PrEstExp_911_111418_132754.csv\n",
      "________________________________________________________\n",
      "Processing Participant No.78 all_data/PrEstExp_505_111318_145955.csv\n",
      "________________________________________________________\n",
      "Processing Participant No.79 all_data/PrEstExp_308_111318_125510.csv\n",
      "________________________________________________________\n",
      "Processing Participant No.80 all_data/PrEstExp_007_111218_120016.csv\n",
      "________________________________________________________\n",
      "Processing Participant No.81 all_data/PrEstExp_810_111418_122033.csv\n",
      "________________________________________________________\n",
      "Processing Participant No.82 all_data/PrEstExp_809_111418_122019.csv\n",
      "________________________________________________________\n",
      "Processing Participant No.83 all_data/PrEstExp_304_111318_125442.csv\n",
      "________________________________________________________\n",
      "Processing Participant No.84 all_data/PrEstExp_508_111318_150015.csv\n",
      "________________________________________________________\n"
     ]
    }
   ],
   "source": [
    "import model_fitting_BS_MSE\n",
    "import model_fitting_RF_MSE"
   ],
   "metadata": {
    "collapsed": false
   }
  },
  {
   "cell_type": "code",
   "execution_count": 13,
   "outputs": [
    {
     "name": "stdout",
     "output_type": "stream",
     "text": [
      "(84, 60, 3)\n",
      "[9.99884370e+01 9.59731982e-04 3.87924514e-03 9.59703317e-04\n",
      " 7.21679233e+01 5.31790277e+00 1.19277294e+01 1.05592100e+01\n",
      " 8.04806981e-01 1.03924298e+00] 0.07977151835600345\n",
      "BIC score of Bayesian sampling model: 98.55759593438553\n",
      "[58.82514079  6.40974122 25.44305198  9.30247677 63.45859893  8.5650868\n",
      " 19.3818238   8.57430145  0.99999988  1.00000192] 0.01594235575576291\n",
      "BIC score of Bayesian sampling model: 14.642152474163325\n",
      "[50.34537818  0.85245117 36.46826365 12.34394838 59.32681619 21.22490602\n",
      "  4.00615228 15.44994598  1.          1.        ] 0.020617805752267893\n",
      "BIC score of Bayesian sampling model: 28.044946164968295\n",
      "[36.77138634 12.42750527 30.55962652 20.24588203 41.72352098 18.47923748\n",
      " 23.80736752 15.97944974  0.79693184  4.08245196] 0.018099297708196578\n",
      "BIC score of Bayesian sampling model: 21.255259761285387\n",
      "[31.69339774  3.58751624 23.63510261 41.07404298 75.71029708 10.96338847\n",
      "  3.98538407  9.34003635  1.          1.        ] 0.018324015933436685\n",
      "BIC score of Bayesian sampling model: 21.898332214103235\n",
      "[55.62117838 10.50104354 26.34986888  7.52790678 48.04691758 21.00698966\n",
      " 20.84738275 10.08426391  0.9999982   1.000003  ] 0.03278746220128305\n",
      "BIC score of Bayesian sampling model: 52.22078927647469\n",
      "[5.14773849e+01 1.08018174e-03 3.57700910e+01 1.27442742e+01\n",
      " 5.39998338e+01 5.74248706e-04 4.59889294e+01 4.84818420e-05\n",
      " 8.64767412e-01 1.03790504e+00] 0.026495213633891623\n",
      "BIC score of Bayesian sampling model: 41.11594400088164\n",
      "[41.37873041  3.12110419 27.10890174 28.3873925  12.39403476 30.66719111\n",
      " 26.27267073 30.65418255  0.84230901  1.46879086] 0.02412795602398655\n",
      "BIC score of Bayesian sampling model: 36.23831684187492\n",
      "[4.07135894e+01 3.28405481e+01 7.63864500e+00 1.87997245e+01\n",
      " 9.98261457e+01 1.86474204e-02 1.21710546e-01 2.28330493e-02\n",
      " 1.00000000e+00 1.00000000e+00] 0.018597741810671167\n",
      "BIC score of Bayesian sampling model: 22.671078626921556\n",
      "[7.50992557e+01 3.45292648e-03 2.48978490e+01 1.44452759e-03\n",
      " 7.19023462e+01 1.07259265e+01 9.65629754e+00 7.71110285e+00\n",
      " 1.00000000e+00 1.00000000e+00] 0.041627855188150854\n",
      "BIC score of Bayesian sampling model: 64.66193713747036\n",
      "[7.44533814e+01 1.01881646e+00 2.12471693e+01 3.26931961e+00\n",
      " 9.99914946e+01 1.23920996e-03 0.00000000e+00 4.14867104e-03\n",
      " 9.51540005e-01 1.85687681e+00] 0.027267534924249402\n",
      "BIC score of Bayesian sampling model: 42.613358291565746\n",
      "[46.43770816  2.01034406 42.67771613  8.86259224 35.8675181  48.47877207\n",
      "  6.17010228  9.48485406  1.          1.        ] 0.014248487635723464\n",
      "BIC score of Bayesian sampling model: 8.788105309249701\n",
      "[4.88221482e+01 1.93382381e-04 5.11827007e+01 3.19222933e-03\n",
      " 3.92623007e+01 3.43716344e+01 8.39912100e+00 1.79525783e+01\n",
      " 9.54274520e-01 1.97121074e+00] 0.02849704424988383\n",
      "BIC score of Bayesian sampling model: 44.911830936708284\n",
      "[61.59248619  0.         21.9384081  16.45730152 46.97411162 37.52383237\n",
      "  0.         15.48864045  0.94904739  1.07417201] 0.02351743043035237\n",
      "BIC score of Bayesian sampling model: 34.90263708072651\n",
      "[79.67676551  0.45339095 17.06042561  2.80325291  0.         78.00258074\n",
      " 21.52757532  0.46839089  1.          1.        ] 0.016802757709433132\n",
      "BIC score of Bayesian sampling model: 17.381520730288273\n",
      "[47.2103558   0.16113468 44.87106056  7.7633467  48.90794363 16.83177042\n",
      " 23.66136591 10.58707871  1.          1.        ] 0.013940571532016699\n",
      "BIC score of Bayesian sampling model: 7.649522431950558\n",
      "[80.38620568  2.16044682 10.20547594  7.23803786 38.40290624 11.1294299\n",
      " 18.64599448 31.80876472  0.9999939   1.00000643] 0.03435970844902848\n",
      "BIC score of Bayesian sampling model: 54.661789334230164\n",
      "[53.7861727   0.         18.2696308  27.93172703 48.81025891 11.37366485\n",
      "  8.14810154 31.69330924  1.          1.        ] 0.03505614478081165\n",
      "BIC score of Bayesian sampling model: 55.70755138650729\n",
      "[13.1645522   0.         18.28386131 68.53987134 35.30750173 13.1475534\n",
      " 16.08476988 35.47054956  0.96412254  1.13342183] 0.026397491786288065\n",
      "BIC score of Bayesian sampling model: 40.92337253548634\n",
      "[44.38429974  0.         30.21111232 25.40203198 49.62732531 20.97275018\n",
      " 10.8335533  18.56300213  0.99637518  2.52761679] 0.01941995320077261\n",
      "BIC score of Bayesian sampling model: 24.92563440380728\n",
      "[5.34131508e+01 2.04603364e-03 4.66066333e+01 2.13031918e-03\n",
      " 5.61227481e+01 1.85315786e+01 1.49717805e+01 1.03764956e+01\n",
      " 9.99990699e-01 1.00000774e+00] 0.028271409701530234\n",
      "BIC score of Bayesian sampling model: 44.49754864372427\n",
      "[5.10130850e+01 8.13838742e-03 4.88915666e+01 9.39233410e-02\n",
      " 6.43882997e+01 2.20008764e+01 4.91453342e+00 8.70894880e+00\n",
      " 1.00000000e+00 1.00000000e+00] 0.03649951386995591\n",
      "BIC score of Bayesian sampling model: 57.81030255048988\n",
      "[63.90220165  0.         29.32660458  6.76870807 71.19637007 26.03243657\n",
      "  1.91043869  0.86361247  1.          1.        ] 0.038979755684052\n",
      "BIC score of Bayesian sampling model: 61.23654645343329\n",
      "[45.12107521 28.29907301  7.27727938 19.30556861 20.66102468 19.00823414\n",
      " 26.07655594 34.23756739  1.          1.        ] 0.030196636863757016\n",
      "BIC score of Bayesian sampling model: 47.93088208210348\n",
      "[30.78573719 12.14958568 33.38735412 23.68313766 23.51979061 22.04884306\n",
      " 16.91403154 37.50922716  1.          1.        ] 0.03452276026909926\n",
      "BIC score of Bayesian sampling model: 54.908514421634706\n"
     ]
    },
    {
     "ename": "KeyboardInterrupt",
     "evalue": "",
     "output_type": "error",
     "traceback": [
      "\u001B[0;31m---------------------------------------------------------------------------\u001B[0m",
      "\u001B[0;31mKeyboardInterrupt\u001B[0m                         Traceback (most recent call last)",
      "Cell \u001B[0;32mIn[13], line 1\u001B[0m\n\u001B[0;32m----> 1\u001B[0m bic_bs \u001B[38;5;241m=\u001B[39m \u001B[43mmodel_fitting_BS_MSE\u001B[49m\u001B[38;5;241;43m.\u001B[39;49m\u001B[43minit_fit_BS\u001B[49m\u001B[43m(\u001B[49m\u001B[43m)\u001B[49m\n",
      "File \u001B[0;32m~/Library/CloudStorage/OneDrive-Personal/03_Uni/UU/Period 1.2/CogModelling/CognitiveModelling/Assignment3/model_fitting_BS_MSE.py:172\u001B[0m, in \u001B[0;36minit_fit_BS\u001B[0;34m(free_parameter)\u001B[0m\n\u001B[1;32m    170\u001B[0m n_para \u001B[38;5;241m=\u001B[39m \u001B[38;5;241m7\u001B[39m  \u001B[38;5;66;03m# effective number of parameters: [a,b,c]*2, beta/(n+2beta), beta/(n2+2beta)\u001B[39;00m\n\u001B[1;32m    171\u001B[0m testdata \u001B[38;5;241m=\u001B[39m pData[ipar, :, :]\n\u001B[0;32m--> 172\u001B[0m fit_all_data \u001B[38;5;241m=\u001B[39m \u001B[43mdifferential_evolution\u001B[49m\u001B[43m(\u001B[49m\u001B[43mMSE_BS\u001B[49m\u001B[43m,\u001B[49m\u001B[43m \u001B[49m\u001B[43mbounds\u001B[49m\u001B[38;5;241;43m=\u001B[39;49m\u001B[43mbnds\u001B[49m\u001B[43m,\u001B[49m\n\u001B[1;32m    173\u001B[0m \u001B[43m                                      \u001B[49m\u001B[43mpopsize\u001B[49m\u001B[38;5;241;43m=\u001B[39;49m\u001B[38;5;241;43m30\u001B[39;49m\u001B[43m,\u001B[49m\n\u001B[1;32m    174\u001B[0m \u001B[43m                                      \u001B[49m\u001B[43mdisp\u001B[49m\u001B[38;5;241;43m=\u001B[39;49m\u001B[38;5;28;43;01mFalse\u001B[39;49;00m\u001B[43m,\u001B[49m\u001B[43m \u001B[49m\u001B[43mpolish\u001B[49m\u001B[38;5;241;43m=\u001B[39;49m\u001B[43mfmin\u001B[49m\u001B[43m,\u001B[49m\u001B[43m \u001B[49m\u001B[43mtol\u001B[49m\u001B[38;5;241;43m=\u001B[39;49m\u001B[38;5;241;43m1e-5\u001B[39;49m\u001B[43m)\u001B[49m\n\u001B[1;32m    175\u001B[0m \u001B[38;5;28mprint\u001B[39m(fit_all_data\u001B[38;5;241m.\u001B[39mx, fit_all_data\u001B[38;5;241m.\u001B[39mfun)\n\u001B[1;32m    177\u001B[0m minMSE \u001B[38;5;241m=\u001B[39m fit_all_data\u001B[38;5;241m.\u001B[39mfun\n",
      "File \u001B[0;32m~/Library/CloudStorage/OneDrive-Personal/03_Uni/UU/Period 1.2/CogModelling/CognitiveModelling/Interpreter/lib/python3.9/site-packages/scipy/optimize/_differentialevolution.py:502\u001B[0m, in \u001B[0;36mdifferential_evolution\u001B[0;34m(func, bounds, args, strategy, maxiter, popsize, tol, mutation, recombination, seed, callback, disp, polish, init, atol, updating, workers, constraints, x0, integrality, vectorized)\u001B[0m\n\u001B[1;32m    485\u001B[0m \u001B[38;5;66;03m# using a context manager means that any created Pool objects are\u001B[39;00m\n\u001B[1;32m    486\u001B[0m \u001B[38;5;66;03m# cleared up.\u001B[39;00m\n\u001B[1;32m    487\u001B[0m \u001B[38;5;28;01mwith\u001B[39;00m DifferentialEvolutionSolver(func, bounds, args\u001B[38;5;241m=\u001B[39margs,\n\u001B[1;32m    488\u001B[0m                                  strategy\u001B[38;5;241m=\u001B[39mstrategy,\n\u001B[1;32m    489\u001B[0m                                  maxiter\u001B[38;5;241m=\u001B[39mmaxiter,\n\u001B[0;32m   (...)\u001B[0m\n\u001B[1;32m    500\u001B[0m                                  integrality\u001B[38;5;241m=\u001B[39mintegrality,\n\u001B[1;32m    501\u001B[0m                                  vectorized\u001B[38;5;241m=\u001B[39mvectorized) \u001B[38;5;28;01mas\u001B[39;00m solver:\n\u001B[0;32m--> 502\u001B[0m     ret \u001B[38;5;241m=\u001B[39m \u001B[43msolver\u001B[49m\u001B[38;5;241;43m.\u001B[39;49m\u001B[43msolve\u001B[49m\u001B[43m(\u001B[49m\u001B[43m)\u001B[49m\n\u001B[1;32m    504\u001B[0m \u001B[38;5;28;01mreturn\u001B[39;00m ret\n",
      "File \u001B[0;32m~/Library/CloudStorage/OneDrive-Personal/03_Uni/UU/Period 1.2/CogModelling/CognitiveModelling/Interpreter/lib/python3.9/site-packages/scipy/optimize/_differentialevolution.py:1164\u001B[0m, in \u001B[0;36mDifferentialEvolutionSolver.solve\u001B[0;34m(self)\u001B[0m\n\u001B[1;32m   1161\u001B[0m \u001B[38;5;28;01mfor\u001B[39;00m nit \u001B[38;5;129;01min\u001B[39;00m \u001B[38;5;28mrange\u001B[39m(\u001B[38;5;241m1\u001B[39m, \u001B[38;5;28mself\u001B[39m\u001B[38;5;241m.\u001B[39mmaxiter \u001B[38;5;241m+\u001B[39m \u001B[38;5;241m1\u001B[39m):\n\u001B[1;32m   1162\u001B[0m     \u001B[38;5;66;03m# evolve the population by a generation\u001B[39;00m\n\u001B[1;32m   1163\u001B[0m     \u001B[38;5;28;01mtry\u001B[39;00m:\n\u001B[0;32m-> 1164\u001B[0m         \u001B[38;5;28;43mnext\u001B[39;49m\u001B[43m(\u001B[49m\u001B[38;5;28;43mself\u001B[39;49m\u001B[43m)\u001B[49m\n\u001B[1;32m   1165\u001B[0m     \u001B[38;5;28;01mexcept\u001B[39;00m \u001B[38;5;167;01mStopIteration\u001B[39;00m:\n\u001B[1;32m   1166\u001B[0m         warning_flag \u001B[38;5;241m=\u001B[39m \u001B[38;5;28;01mTrue\u001B[39;00m\n",
      "File \u001B[0;32m~/Library/CloudStorage/OneDrive-Personal/03_Uni/UU/Period 1.2/CogModelling/CognitiveModelling/Interpreter/lib/python3.9/site-packages/scipy/optimize/_differentialevolution.py:1578\u001B[0m, in \u001B[0;36mDifferentialEvolutionSolver.__next__\u001B[0;34m(self)\u001B[0m\n\u001B[1;32m   1576\u001B[0m     feasible \u001B[38;5;241m=\u001B[39m \u001B[38;5;28;01mTrue\u001B[39;00m\n\u001B[1;32m   1577\u001B[0m     cv \u001B[38;5;241m=\u001B[39m np\u001B[38;5;241m.\u001B[39matleast_2d([\u001B[38;5;241m0.\u001B[39m])\n\u001B[0;32m-> 1578\u001B[0m     energy \u001B[38;5;241m=\u001B[39m \u001B[38;5;28;43mself\u001B[39;49m\u001B[38;5;241;43m.\u001B[39;49m\u001B[43mfunc\u001B[49m\u001B[43m(\u001B[49m\u001B[43mparameters\u001B[49m\u001B[43m)\u001B[49m\n\u001B[1;32m   1579\u001B[0m     \u001B[38;5;28mself\u001B[39m\u001B[38;5;241m.\u001B[39m_nfev \u001B[38;5;241m+\u001B[39m\u001B[38;5;241m=\u001B[39m \u001B[38;5;241m1\u001B[39m\n\u001B[1;32m   1581\u001B[0m \u001B[38;5;66;03m# compare trial and population member\u001B[39;00m\n",
      "File \u001B[0;32m~/Library/CloudStorage/OneDrive-Personal/03_Uni/UU/Period 1.2/CogModelling/CognitiveModelling/Interpreter/lib/python3.9/site-packages/scipy/_lib/_util.py:441\u001B[0m, in \u001B[0;36m_FunctionWrapper.__call__\u001B[0;34m(self, x)\u001B[0m\n\u001B[1;32m    440\u001B[0m \u001B[38;5;28;01mdef\u001B[39;00m \u001B[38;5;21m__call__\u001B[39m(\u001B[38;5;28mself\u001B[39m, x):\n\u001B[0;32m--> 441\u001B[0m     \u001B[38;5;28;01mreturn\u001B[39;00m \u001B[38;5;28;43mself\u001B[39;49m\u001B[38;5;241;43m.\u001B[39;49m\u001B[43mf\u001B[49m\u001B[43m(\u001B[49m\u001B[43mx\u001B[49m\u001B[43m,\u001B[49m\u001B[43m \u001B[49m\u001B[38;5;241;43m*\u001B[39;49m\u001B[38;5;28;43mself\u001B[39;49m\u001B[38;5;241;43m.\u001B[39;49m\u001B[43margs\u001B[49m\u001B[43m)\u001B[49m\n",
      "File \u001B[0;32m~/Library/CloudStorage/OneDrive-Personal/03_Uni/UU/Period 1.2/CogModelling/CognitiveModelling/Assignment3/model_fitting_BS_MSE.py:151\u001B[0m, in \u001B[0;36mMSE_BS\u001B[0;34m(params)\u001B[0m\n\u001B[1;32m    149\u001B[0m \u001B[38;5;28;01mfor\u001B[39;00m i \u001B[38;5;129;01min\u001B[39;00m \u001B[38;5;28mrange\u001B[39m(\u001B[38;5;28mlen\u001B[39m(allpredmeans)):\n\u001B[1;32m    150\u001B[0m     currentdata \u001B[38;5;241m=\u001B[39m testdata[i, :]\u001B[38;5;241m.\u001B[39mflatten()\n\u001B[0;32m--> 151\u001B[0m     MSE \u001B[38;5;241m+\u001B[39m\u001B[38;5;241m=\u001B[39m \u001B[43mnp\u001B[49m\u001B[38;5;241;43m.\u001B[39;49m\u001B[43mmean\u001B[49m\u001B[43m(\u001B[49m\u001B[43m(\u001B[49m\u001B[43mallpredmeans\u001B[49m\u001B[43m[\u001B[49m\n\u001B[1;32m    152\u001B[0m \u001B[43m                        \u001B[49m\u001B[43mi\u001B[49m\u001B[43m]\u001B[49m\u001B[43m \u001B[49m\u001B[38;5;241;43m-\u001B[39;49m\u001B[43m \u001B[49m\u001B[43mcurrentdata\u001B[49m\u001B[43m)\u001B[49m\u001B[43m \u001B[49m\u001B[38;5;241;43m*\u001B[39;49m\u001B[38;5;241;43m*\u001B[39;49m\u001B[43m \u001B[49m\u001B[38;5;241;43m2\u001B[39;49m\u001B[43m)\u001B[49m \u001B[38;5;241m/\u001B[39m \u001B[38;5;241m40\u001B[39m  \u001B[38;5;66;03m#### Chris: there are 40 unique sentences to test. So, calculate mean over 40 (20 per category)\u001B[39;00m\n\u001B[1;32m    154\u001B[0m \u001B[38;5;28;01mreturn\u001B[39;00m MSE\n",
      "File \u001B[0;32m~/Library/CloudStorage/OneDrive-Personal/03_Uni/UU/Period 1.2/CogModelling/CognitiveModelling/Interpreter/lib/python3.9/site-packages/numpy/_core/fromnumeric.py:3596\u001B[0m, in \u001B[0;36mmean\u001B[0;34m(a, axis, dtype, out, keepdims, where)\u001B[0m\n\u001B[1;32m   3593\u001B[0m     \u001B[38;5;28;01melse\u001B[39;00m:\n\u001B[1;32m   3594\u001B[0m         \u001B[38;5;28;01mreturn\u001B[39;00m mean(axis\u001B[38;5;241m=\u001B[39maxis, dtype\u001B[38;5;241m=\u001B[39mdtype, out\u001B[38;5;241m=\u001B[39mout, \u001B[38;5;241m*\u001B[39m\u001B[38;5;241m*\u001B[39mkwargs)\n\u001B[0;32m-> 3596\u001B[0m \u001B[38;5;28;01mreturn\u001B[39;00m \u001B[43m_methods\u001B[49m\u001B[38;5;241;43m.\u001B[39;49m\u001B[43m_mean\u001B[49m\u001B[43m(\u001B[49m\u001B[43ma\u001B[49m\u001B[43m,\u001B[49m\u001B[43m \u001B[49m\u001B[43maxis\u001B[49m\u001B[38;5;241;43m=\u001B[39;49m\u001B[43maxis\u001B[49m\u001B[43m,\u001B[49m\u001B[43m \u001B[49m\u001B[43mdtype\u001B[49m\u001B[38;5;241;43m=\u001B[39;49m\u001B[43mdtype\u001B[49m\u001B[43m,\u001B[49m\n\u001B[1;32m   3597\u001B[0m \u001B[43m                      \u001B[49m\u001B[43mout\u001B[49m\u001B[38;5;241;43m=\u001B[39;49m\u001B[43mout\u001B[49m\u001B[43m,\u001B[49m\u001B[43m \u001B[49m\u001B[38;5;241;43m*\u001B[39;49m\u001B[38;5;241;43m*\u001B[39;49m\u001B[43mkwargs\u001B[49m\u001B[43m)\u001B[49m\n",
      "File \u001B[0;32m~/Library/CloudStorage/OneDrive-Personal/03_Uni/UU/Period 1.2/CogModelling/CognitiveModelling/Interpreter/lib/python3.9/site-packages/numpy/_core/_methods.py:127\u001B[0m, in \u001B[0;36m_mean\u001B[0;34m(a, axis, dtype, out, keepdims, where)\u001B[0m\n\u001B[1;32m    124\u001B[0m         dtype \u001B[38;5;241m=\u001B[39m mu\u001B[38;5;241m.\u001B[39mdtype(\u001B[38;5;124m'\u001B[39m\u001B[38;5;124mf4\u001B[39m\u001B[38;5;124m'\u001B[39m)\n\u001B[1;32m    125\u001B[0m         is_float16_result \u001B[38;5;241m=\u001B[39m \u001B[38;5;28;01mTrue\u001B[39;00m\n\u001B[0;32m--> 127\u001B[0m ret \u001B[38;5;241m=\u001B[39m \u001B[43mumr_sum\u001B[49m\u001B[43m(\u001B[49m\u001B[43marr\u001B[49m\u001B[43m,\u001B[49m\u001B[43m \u001B[49m\u001B[43maxis\u001B[49m\u001B[43m,\u001B[49m\u001B[43m \u001B[49m\u001B[43mdtype\u001B[49m\u001B[43m,\u001B[49m\u001B[43m \u001B[49m\u001B[43mout\u001B[49m\u001B[43m,\u001B[49m\u001B[43m \u001B[49m\u001B[43mkeepdims\u001B[49m\u001B[43m,\u001B[49m\u001B[43m \u001B[49m\u001B[43mwhere\u001B[49m\u001B[38;5;241;43m=\u001B[39;49m\u001B[43mwhere\u001B[49m\u001B[43m)\u001B[49m\n\u001B[1;32m    128\u001B[0m \u001B[38;5;28;01mif\u001B[39;00m \u001B[38;5;28misinstance\u001B[39m(ret, mu\u001B[38;5;241m.\u001B[39mndarray):\n\u001B[1;32m    129\u001B[0m     \u001B[38;5;28;01mwith\u001B[39;00m _no_nep50_warning():\n",
      "\u001B[0;31mKeyboardInterrupt\u001B[0m: "
     ]
    }
   ],
   "source": [
    "bic_bs = model_fitting_BS_MSE.init_fit_BS()"
   ],
   "metadata": {
    "collapsed": false
   }
  },
  {
   "cell_type": "code",
   "execution_count": null,
   "outputs": [],
   "source": [
    "bic_rf = model_fitting_RF_MSE.init_fit_RF()"
   ],
   "metadata": {
    "collapsed": false
   }
  },
  {
   "cell_type": "code",
   "execution_count": null,
   "outputs": [],
   "source": [
    "print(bic_bs)\n",
    "print(bic_rf)"
   ],
   "metadata": {
    "collapsed": false
   }
  },
  {
   "cell_type": "markdown",
   "source": [
    "# Bonus Section\n"
   ],
   "metadata": {
    "collapsed": false
   }
  },
  {
   "cell_type": "code",
   "execution_count": 4,
   "outputs": [
    {
     "name": "stdout",
     "output_type": "stream",
     "text": [
      "(84, 60, 3)\n"
     ]
    },
    {
     "ename": "KeyboardInterrupt",
     "evalue": "",
     "output_type": "error",
     "traceback": [
      "\u001B[0;31m---------------------------------------------------------------------------\u001B[0m",
      "\u001B[0;31mKeyboardInterrupt\u001B[0m                         Traceback (most recent call last)",
      "Cell \u001B[0;32mIn[4], line 5\u001B[0m\n\u001B[1;32m      3\u001B[0m \u001B[38;5;28;01mfor\u001B[39;00m v \u001B[38;5;129;01min\u001B[39;00m bic_variants:\n\u001B[1;32m      4\u001B[0m     \u001B[38;5;28;01mif\u001B[39;00m \u001B[38;5;124m\"\u001B[39m\u001B[38;5;124mBS\u001B[39m\u001B[38;5;124m\"\u001B[39m\u001B[38;5;129;01min\u001B[39;00m v:\n\u001B[0;32m----> 5\u001B[0m         bic_variants[v] \u001B[38;5;241m=\u001B[39m (bic_variants[v], \u001B[43mmodel_fitting_BS_MSE\u001B[49m\u001B[38;5;241;43m.\u001B[39;49m\u001B[43minit_fit_BS\u001B[49m\u001B[43m(\u001B[49m\u001B[43mbic_variants\u001B[49m\u001B[43m[\u001B[49m\u001B[43mv\u001B[49m\u001B[43m]\u001B[49m\u001B[43m)\u001B[49m)\n\u001B[1;32m      6\u001B[0m     \u001B[38;5;28;01melse\u001B[39;00m:\n\u001B[1;32m      7\u001B[0m         bic_variants[v] \u001B[38;5;241m=\u001B[39m (bic_variants[v], model_fitting_RF_MSE\u001B[38;5;241m.\u001B[39minit_fit_RF(bic_variants[v]))\n",
      "File \u001B[0;32m~/Library/CloudStorage/OneDrive-Personal/03_Uni/UU/Period 1.2/CogModelling/CognitiveModelling/Assignment3/model_fitting_BS_MSE.py:174\u001B[0m, in \u001B[0;36minit_fit_BS\u001B[0;34m(free_parameter)\u001B[0m\n\u001B[1;32m    172\u001B[0m n_para \u001B[38;5;241m=\u001B[39m \u001B[38;5;241m7\u001B[39m  \u001B[38;5;66;03m# effective number of parameters: [a,b,c]*2, beta/(n+2beta), beta/(n2+2beta)\u001B[39;00m\n\u001B[1;32m    173\u001B[0m testdata \u001B[38;5;241m=\u001B[39m pData[ipar,:,:]\n\u001B[0;32m--> 174\u001B[0m fit_all_data \u001B[38;5;241m=\u001B[39m \u001B[43mdifferential_evolution\u001B[49m\u001B[43m(\u001B[49m\u001B[43mMSE_BS\u001B[49m\u001B[43m,\u001B[49m\u001B[43m \u001B[49m\u001B[43mbounds\u001B[49m\u001B[38;5;241;43m=\u001B[39;49m\u001B[43mbnds\u001B[49m\u001B[43m,\u001B[49m\n\u001B[1;32m    175\u001B[0m \u001B[43m                                      \u001B[49m\u001B[43mpopsize\u001B[49m\u001B[38;5;241;43m=\u001B[39;49m\u001B[38;5;241;43m30\u001B[39;49m\u001B[43m,\u001B[49m\n\u001B[1;32m    176\u001B[0m \u001B[43m                                      \u001B[49m\u001B[43mdisp\u001B[49m\u001B[38;5;241;43m=\u001B[39;49m\u001B[38;5;28;43;01mFalse\u001B[39;49;00m\u001B[43m,\u001B[49m\u001B[43m \u001B[49m\u001B[43mpolish\u001B[49m\u001B[38;5;241;43m=\u001B[39;49m\u001B[43mfmin\u001B[49m\u001B[43m,\u001B[49m\u001B[43m \u001B[49m\u001B[43mtol\u001B[49m\u001B[43m \u001B[49m\u001B[38;5;241;43m=\u001B[39;49m\u001B[43m \u001B[49m\u001B[38;5;241;43m1e-5\u001B[39;49m\u001B[43m)\u001B[49m\n\u001B[1;32m    177\u001B[0m \u001B[38;5;28mprint\u001B[39m(fit_all_data\u001B[38;5;241m.\u001B[39mx, fit_all_data\u001B[38;5;241m.\u001B[39mfun)\n\u001B[1;32m    179\u001B[0m minMSE \u001B[38;5;241m=\u001B[39m fit_all_data\u001B[38;5;241m.\u001B[39mfun\n",
      "File \u001B[0;32m~/Library/CloudStorage/OneDrive-Personal/03_Uni/UU/Period 1.2/CogModelling/CognitiveModelling/Interpreter/lib/python3.9/site-packages/scipy/optimize/_differentialevolution.py:502\u001B[0m, in \u001B[0;36mdifferential_evolution\u001B[0;34m(func, bounds, args, strategy, maxiter, popsize, tol, mutation, recombination, seed, callback, disp, polish, init, atol, updating, workers, constraints, x0, integrality, vectorized)\u001B[0m\n\u001B[1;32m    485\u001B[0m \u001B[38;5;66;03m# using a context manager means that any created Pool objects are\u001B[39;00m\n\u001B[1;32m    486\u001B[0m \u001B[38;5;66;03m# cleared up.\u001B[39;00m\n\u001B[1;32m    487\u001B[0m \u001B[38;5;28;01mwith\u001B[39;00m DifferentialEvolutionSolver(func, bounds, args\u001B[38;5;241m=\u001B[39margs,\n\u001B[1;32m    488\u001B[0m                                  strategy\u001B[38;5;241m=\u001B[39mstrategy,\n\u001B[1;32m    489\u001B[0m                                  maxiter\u001B[38;5;241m=\u001B[39mmaxiter,\n\u001B[0;32m   (...)\u001B[0m\n\u001B[1;32m    500\u001B[0m                                  integrality\u001B[38;5;241m=\u001B[39mintegrality,\n\u001B[1;32m    501\u001B[0m                                  vectorized\u001B[38;5;241m=\u001B[39mvectorized) \u001B[38;5;28;01mas\u001B[39;00m solver:\n\u001B[0;32m--> 502\u001B[0m     ret \u001B[38;5;241m=\u001B[39m \u001B[43msolver\u001B[49m\u001B[38;5;241;43m.\u001B[39;49m\u001B[43msolve\u001B[49m\u001B[43m(\u001B[49m\u001B[43m)\u001B[49m\n\u001B[1;32m    504\u001B[0m \u001B[38;5;28;01mreturn\u001B[39;00m ret\n",
      "File \u001B[0;32m~/Library/CloudStorage/OneDrive-Personal/03_Uni/UU/Period 1.2/CogModelling/CognitiveModelling/Interpreter/lib/python3.9/site-packages/scipy/optimize/_differentialevolution.py:1164\u001B[0m, in \u001B[0;36mDifferentialEvolutionSolver.solve\u001B[0;34m(self)\u001B[0m\n\u001B[1;32m   1161\u001B[0m \u001B[38;5;28;01mfor\u001B[39;00m nit \u001B[38;5;129;01min\u001B[39;00m \u001B[38;5;28mrange\u001B[39m(\u001B[38;5;241m1\u001B[39m, \u001B[38;5;28mself\u001B[39m\u001B[38;5;241m.\u001B[39mmaxiter \u001B[38;5;241m+\u001B[39m \u001B[38;5;241m1\u001B[39m):\n\u001B[1;32m   1162\u001B[0m     \u001B[38;5;66;03m# evolve the population by a generation\u001B[39;00m\n\u001B[1;32m   1163\u001B[0m     \u001B[38;5;28;01mtry\u001B[39;00m:\n\u001B[0;32m-> 1164\u001B[0m         \u001B[38;5;28;43mnext\u001B[39;49m\u001B[43m(\u001B[49m\u001B[38;5;28;43mself\u001B[39;49m\u001B[43m)\u001B[49m\n\u001B[1;32m   1165\u001B[0m     \u001B[38;5;28;01mexcept\u001B[39;00m \u001B[38;5;167;01mStopIteration\u001B[39;00m:\n\u001B[1;32m   1166\u001B[0m         warning_flag \u001B[38;5;241m=\u001B[39m \u001B[38;5;28;01mTrue\u001B[39;00m\n",
      "File \u001B[0;32m~/Library/CloudStorage/OneDrive-Personal/03_Uni/UU/Period 1.2/CogModelling/CognitiveModelling/Interpreter/lib/python3.9/site-packages/scipy/optimize/_differentialevolution.py:1560\u001B[0m, in \u001B[0;36mDifferentialEvolutionSolver.__next__\u001B[0;34m(self)\u001B[0m\n\u001B[1;32m   1557\u001B[0m trial \u001B[38;5;241m=\u001B[39m \u001B[38;5;28mself\u001B[39m\u001B[38;5;241m.\u001B[39m_mutate(candidate)\n\u001B[1;32m   1559\u001B[0m \u001B[38;5;66;03m# ensuring that it's in the range [0, 1)\u001B[39;00m\n\u001B[0;32m-> 1560\u001B[0m \u001B[38;5;28;43mself\u001B[39;49m\u001B[38;5;241;43m.\u001B[39;49m\u001B[43m_ensure_constraint\u001B[49m\u001B[43m(\u001B[49m\u001B[43mtrial\u001B[49m\u001B[43m)\u001B[49m\n\u001B[1;32m   1562\u001B[0m \u001B[38;5;66;03m# scale from [0, 1) to the actual parameter value\u001B[39;00m\n\u001B[1;32m   1563\u001B[0m parameters \u001B[38;5;241m=\u001B[39m \u001B[38;5;28mself\u001B[39m\u001B[38;5;241m.\u001B[39m_scale_parameters(trial)\n",
      "File \u001B[0;32m~/Library/CloudStorage/OneDrive-Personal/03_Uni/UU/Period 1.2/CogModelling/CognitiveModelling/Interpreter/lib/python3.9/site-packages/scipy/optimize/_differentialevolution.py:1661\u001B[0m, in \u001B[0;36mDifferentialEvolutionSolver._ensure_constraint\u001B[0;34m(self, trial)\u001B[0m\n\u001B[1;32m   1659\u001B[0m \u001B[38;5;28;01mdef\u001B[39;00m \u001B[38;5;21m_ensure_constraint\u001B[39m(\u001B[38;5;28mself\u001B[39m, trial):\n\u001B[1;32m   1660\u001B[0m \u001B[38;5;250m    \u001B[39m\u001B[38;5;124;03m\"\"\"Make sure the parameters lie between the limits.\"\"\"\u001B[39;00m\n\u001B[0;32m-> 1661\u001B[0m     mask \u001B[38;5;241m=\u001B[39m np\u001B[38;5;241m.\u001B[39mwhere((\u001B[43mtrial\u001B[49m\u001B[43m \u001B[49m\u001B[38;5;241;43m>\u001B[39;49m\u001B[43m \u001B[49m\u001B[38;5;241;43m1\u001B[39;49m) \u001B[38;5;241m|\u001B[39m (trial \u001B[38;5;241m<\u001B[39m \u001B[38;5;241m0\u001B[39m))\n\u001B[1;32m   1662\u001B[0m     trial[mask] \u001B[38;5;241m=\u001B[39m \u001B[38;5;28mself\u001B[39m\u001B[38;5;241m.\u001B[39mrandom_number_generator\u001B[38;5;241m.\u001B[39muniform(size\u001B[38;5;241m=\u001B[39mmask[\u001B[38;5;241m0\u001B[39m]\u001B[38;5;241m.\u001B[39mshape)\n",
      "\u001B[0;31mKeyboardInterrupt\u001B[0m: "
     ]
    }
   ],
   "source": [
    "# Dictionary of all BIC variants that should be calculated\n",
    "bic_variants = {\"BS_1\":7, \"BS_2\":8, \"BS_3\":9, \"BS_4\":10, \"RF_1\":6, \"RF_2\":8}\n",
    "\n",
    "for v in bic_variants:\n",
    "    if \"BS\"in v:\n",
    "        bic_variants[v] = (bic_variants[v], model_fitting_BS_MSE.init_fit_BS(bic_variants[v]))\n",
    "    else:\n",
    "        bic_variants[v] = (bic_variants[v], model_fitting_RF_MSE.init_fit_RF(bic_variants[v]))\n",
    "\n",
    "print(\"These are the BIC Scores of all BIC variants: \")\n",
    "print(bic_variants)"
   ],
   "metadata": {
    "collapsed": false
   }
  },
  {
   "cell_type": "code",
   "execution_count": 3,
   "outputs": [
    {
     "name": "stdout",
     "output_type": "stream",
     "text": [
      "These are the BIC Scores of all BIC variants: \n",
      "{'BS_1': (7, 3369.30545523723), 'BS_2': (8, 3543.957923410802), 'BS_3': (9, 3718.607850747731), 'BS_4': (10, 3893.2593324400827), 'RF_1': (6, 5558.044551774516), 'RF_2': (8, 5907.347064830853)}\n"
     ]
    }
   ],
   "source": [
    "print(\"These are the BIC Scores of all BIC variants: \")\n",
    "print(bic_variants)"
   ],
   "metadata": {
    "collapsed": false
   }
  },
  {
   "cell_type": "code",
   "execution_count": null,
   "outputs": [],
   "source": [],
   "metadata": {
    "collapsed": false
   }
  }
 ],
 "metadata": {
  "kernelspec": {
   "display_name": "Python 3",
   "language": "python",
   "name": "python3"
  },
  "language_info": {
   "codemirror_mode": {
    "name": "ipython",
    "version": 2
   },
   "file_extension": ".py",
   "mimetype": "text/x-python",
   "name": "python",
   "nbconvert_exporter": "python",
   "pygments_lexer": "ipython2",
   "version": "2.7.6"
  }
 },
 "nbformat": 4,
 "nbformat_minor": 0
}
