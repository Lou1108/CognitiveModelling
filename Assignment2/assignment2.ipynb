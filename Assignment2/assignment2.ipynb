{
 "cells": [
  {
   "cell_type": "code",
   "execution_count": 1,
   "metadata": {
    "collapsed": true
   },
   "outputs": [],
   "source": [
    "import pandas as pd\n",
    "import numpy as np\n",
    "import matplotlib.pyplot as plt\n",
    "from sklearn import svm\n",
    "from sklearn.metrics import accuracy_score\n",
    "from scipy import stats"
   ]
  },
  {
   "cell_type": "code",
   "execution_count": 2,
   "outputs": [],
   "source": [
    "# import all data\n",
    "\n",
    "neural_resp1 = pd.read_csv('data/NeuralResponses_S1.txt')\n",
    "neural_resp2 = pd.read_csv('data/NeuralResponses_S2.txt')\n",
    "cat_labels = pd.read_csv('data/CategoryLabels.txt')\n",
    "cat_vecs = pd.read_csv('data/CategoryVectors.txt')"
   ],
   "metadata": {
    "collapsed": false
   }
  },
  {
   "cell_type": "markdown",
   "source": [
    "## Section 1\n",
    "Load ‘NeuralResponses_S1’ in your software (R / Python). Use the category variable (CategoryVectors + CategoryLabels) to separate neural data in response to images in which an animate objects and in which an inanimate object was shown. Now average the data over all voxels. This should leave you with 44 average voxel values for animate and 44 average voxel values for inanimate objects.\n",
    "\n",
    "You are now able to answer Blackboard question 1A."
   ],
   "metadata": {
    "collapsed": false
   }
  },
  {
   "cell_type": "code",
   "execution_count": 3,
   "outputs": [],
   "source": [
    "# read in data as DF and reset the indices\n",
    "# separate data based on their animation state\n",
    "anim_indices = cat_vecs.index[cat_vecs['Var2'] == 0].tolist()\n",
    "df_anim = neural_resp1[neural_resp1.index.isin(anim_indices)].reset_index(drop=True)\n",
    "\n",
    "inanim_indices = cat_vecs.index[cat_vecs['Var2'] == 1].tolist()\n",
    "df_inanim = neural_resp1[neural_resp1.index.isin(inanim_indices)].reset_index(drop=True)"
   ],
   "metadata": {
    "collapsed": false
   }
  },
  {
   "cell_type": "code",
   "execution_count": 4,
   "outputs": [],
   "source": [
    "# average over all voxels\n",
    "avg_anim = df_anim.mean(axis=1)\n",
    "avg_inanim = df_inanim.mean(axis=1)"
   ],
   "metadata": {
    "collapsed": false
   }
  },
  {
   "cell_type": "code",
   "execution_count": 5,
   "outputs": [
    {
     "data": {
      "text/plain": "True"
     },
     "execution_count": 5,
     "metadata": {},
     "output_type": "execute_result"
    }
   ],
   "source": [
    "# this should leave you with 44 average voxel each\n",
    "len(avg_anim) == 44 & len(avg_inanim) == 44"
   ],
   "metadata": {
    "collapsed": false
   }
  },
  {
   "cell_type": "markdown",
   "source": [
    "## Blackboard 1A\n",
    "Plot the average voxel response for animate and inanimate images using a bar plot. Add error bars to indicate the standard error of the mean (“sem”, different from standard deviation). Your plot should look similar in style to Figure 1A (but the exact values differ slightly). Include your figure in your answer document."
   ],
   "metadata": {
    "collapsed": false
   }
  },
  {
   "cell_type": "code",
   "execution_count": 6,
   "outputs": [
    {
     "data": {
      "text/plain": "<Figure size 640x480 with 1 Axes>",
      "image/png": "[encoded data removed]"
     },
     "metadata": {},
     "output_type": "display_data"
    }
   ],
   "source": [
    "from scipy.stats import sem\n",
    "\n",
    "mean_anim = np.mean(avg_anim)\n",
    "mean_inanim = np.mean(avg_inanim)\n",
    "\n",
    "positions = [0, 1]\n",
    "\n",
    "# creating the bar plot\n",
    "plt.bar(['animate', 'inanimate'], [mean_anim, mean_inanim], color ='blue', width = 0.4, edgecolor='black')\n",
    "plt.errorbar(['animate', 'inanimate'], [mean_anim, mean_inanim], yerr=[sem(avg_anim), sem(avg_inanim)], fmt='none', color=\"red\", capsize=5)\n",
    "\n",
    "# Draw a horizontal line at y=0\n",
    "plt.axhline(y=0, color='black', linewidth=1)\n",
    "\n",
    "# set plot labels and title\n",
    "plt.ylabel(\"Response Amplitude\")\n",
    "plt.title(\"Average Response Amplitude\")\n",
    "plt.savefig(\"1A: Average Response Amplitude.jpg\")\n",
    "plt.show()"
   ],
   "metadata": {
    "collapsed": false
   }
  },
  {
   "cell_type": "markdown",
   "source": [
    "Engineering: make your own t-test function Implement code to conduct a paired t-test (i.e., write a function for this), to check if the average response amplitude is different between animate and inanimate images. To do this, you only need to turn the following formula into code:\n",
    "$t = \\frac{m}{s/√ 𝑁}$\n",
    "M and s are the mean and the standard deviation of the difference between our measured voxels’ responses to animate and inanimate images. N is the number of observations per category. The resulting t value can be compared to the values in a t-table found here: (https://www.ttable.org/) and will tell us the corresponding p-value. For this the only thing left to do is to calculate the degrees of freedom $(df = N-1)$ required for the lookup table. You can now answer Blackboard question 1B.\n",
    "\n",
    "Note:\n",
    "The t-value tells you how different the means are relative to the variation in your data.\n",
    "The p-value allows you to assess whether the observed difference is statistically significant (typically compared to a significance level like 0.05)"
   ],
   "metadata": {
    "collapsed": false
   }
  },
  {
   "cell_type": "code",
   "execution_count": 7,
   "outputs": [],
   "source": [
    "# critical t-value from table: 2.021\n",
    "# t_value !> critical_t_value\n",
    "# --> cannot reject null hypothesis -> not statistically significant"
   ],
   "metadata": {
    "collapsed": false
   }
  },
  {
   "cell_type": "code",
   "execution_count": 8,
   "outputs": [],
   "source": [
    "def paired_t_test(anim_img, inanim_img):\n",
    "    differences = np.array(anim_img) - np.array(inanim_img)\n",
    "    m = np.mean(differences)\n",
    "    s = np.std(differences)  # ddof=1 for sample standard deviation\n",
    "    N = len(differences)\n",
    "\n",
    "    t = m / (s / np.sqrt(N))\n",
    "\n",
    "    df = N-1\n",
    "\n",
    "    p = stats.t.sf(np.abs(t), df) * 2  # two-tailed p-value\n",
    "\n",
    "    return t, p, df"
   ],
   "metadata": {
    "collapsed": false
   }
  },
  {
   "cell_type": "code",
   "execution_count": 9,
   "outputs": [
    {
     "name": "stdout",
     "output_type": "stream",
     "text": [
      "T-value: -1.6198437327750776\n",
      "P-value: 0.11257775280392687\n",
      "Degrees of freedom: 43\n"
     ]
    }
   ],
   "source": [
    "t_value, p_value, deg_freedom = paired_t_test(avg_inanim, avg_anim)\n",
    "\n",
    "print(f\"T-value: {t_value}\")\n",
    "print(f\"P-value: {p_value}\")\n",
    "print(f\"Degrees of freedom: {deg_freedom}\")"
   ],
   "metadata": {
    "collapsed": false
   }
  },
  {
   "cell_type": "markdown",
   "source": [
    "p-value: to help determine whether observed data is statistically significant (whether obtained results are likely to have occured by chance)\n",
    "= probability of obtaining test results at least as extreme as the results actually observed in your sample, under the assumption that the null hypothesis is true\n",
    "- small p-value (< 0.05) suggests that the observed data is very unlikely to occur under the null hypothesis (reject null hypothesis)\n",
    "- large p-value (>= 0.05): suggests that the observed data is consistent with the null hypothesis (fail to reject null hypothesis -> the difference between the groups is not statistically significant)"
   ],
   "metadata": {
    "collapsed": false
   }
  },
  {
   "cell_type": "markdown",
   "source": [
    "# BB 1B:\n",
    "Report the t-value and p-value in your answer document of the difference between animate and inanimate results. In addition, answer if there is a significant difference between animate and inanimate condition. Use the template in the answer sheet:\n",
    "“t(df) = X, p = Y, this is not significant / significant.”\n",
    "Where you:\n",
    "o Replace df with degrees of freedom\n",
    "o Insert the values of X and Y\n",
    "o Remove the part that is not correct regarding significance"
   ],
   "metadata": {
    "collapsed": false
   }
  },
  {
   "cell_type": "markdown",
   "source": [
    "Engineering: analyzing individual voxels\n",
    "Now, you will look at the responses of some individual voxels. Take the original data, however this time average over animate and inanimate images (respectively) instead of voxels. This should leave you with two arrays of size 100. Now subtract the average voxel responses of inanimate images from animate images (do this for each voxel separately). You can now answer Blackboard question 1C & D."
   ],
   "metadata": {
    "collapsed": false
   }
  },
  {
   "cell_type": "code",
   "execution_count": 10,
   "outputs": [
    {
     "data": {
      "text/plain": "True"
     },
     "execution_count": 10,
     "metadata": {},
     "output_type": "execute_result"
    }
   ],
   "source": [
    "# average over animate and inanimate images (respectively)\n",
    "avgImg_anim = df_anim.mean(axis=0)\n",
    "avgImg_inanim = df_inanim.mean(axis=0)\n",
    "\n",
    "# This should leave you with two arrays of size 100\n",
    "len(avgImg_anim) == 100 & len(avgImg_inanim) == 100"
   ],
   "metadata": {
    "collapsed": false
   }
  },
  {
   "cell_type": "code",
   "execution_count": 11,
   "outputs": [],
   "source": [
    "# subtract the average voxel responses of inanimate images from animate images\n",
    "individ_differences = avgImg_anim-avgImg_inanim"
   ],
   "metadata": {
    "collapsed": false
   }
  },
  {
   "cell_type": "markdown",
   "source": [
    "## BB 1C:\n",
    "Use a bar plot to visualize the difference values of the first 20 voxels. Your\n",
    "plot should look similar in style to Figure 1 B (but the exact values might\n",
    "slightly differ). Include your visualization in the answer document."
   ],
   "metadata": {
    "collapsed": false
   }
  },
  {
   "cell_type": "code",
   "execution_count": 12,
   "outputs": [
    {
     "data": {
      "text/plain": "<Figure size 640x480 with 1 Axes>",
      "image/png": "[encoded data removed]"
     },
     "metadata": {},
     "output_type": "display_data"
    }
   ],
   "source": [
    "# creating the bar plot\n",
    "plt.bar(range(0,20), individ_differences[:20], color ='blue', edgecolor='black')\n",
    "\n",
    "plt.xticks(range(0, 20, 5))\n",
    "\n",
    "# Draw a horizontal line at y=0\n",
    "plt.axhline(y=0, color='black', linewidth=1)\n",
    "\n",
    "plt.ylabel(\"Response Amplitude\")\n",
    "plt.xlabel(\"Voxel\")\n",
    "plt.title(\"Animate minus Inanimate\")\n",
    "plt.savefig(\"1C: Animate minus Inanimate.jpg\")\n",
    "plt.show()"
   ],
   "metadata": {
    "collapsed": false
   }
  },
  {
   "cell_type": "markdown",
   "source": [
    "## BB 1D:\n",
    "Why do some of the voxels show a positive and some a negative value? What does this tell us about the difference between conditions on the level of the group average versus the difference between conditions in single voxel responses? Explain your reasoning in 3-5 sentences."
   ],
   "metadata": {
    "collapsed": false
   }
  },
  {
   "cell_type": "markdown",
   "source": [
    "# Exercise 2"
   ],
   "metadata": {
    "collapsed": false
   }
  },
  {
   "cell_type": "code",
   "execution_count": 13,
   "outputs": [],
   "source": [
    "anim_indices2 = cat_vecs.index[cat_vecs['Var2'] == 0].tolist()\n",
    "df_anim2 = neural_resp2[neural_resp2.index.isin(anim_indices)].reset_index(drop=True)\n",
    "\n",
    "inanim_indices2 = cat_vecs.index[cat_vecs['Var2'] == 1].tolist()\n",
    "df_inanim2 = neural_resp2[neural_resp2.index.isin(inanim_indices)].reset_index(drop=True)\n",
    "\n",
    "\n",
    "df_train = pd.concat([df_anim2[:22], df_inanim2[:22]])\n",
    "train_labels = [1]*22 +  [-1]*22\n",
    "\n",
    "\n",
    "df_test = pd.concat([df_anim2[22:], df_inanim2[22:]])\n",
    "test_labels = [1]*22 +  [-1]*22\n"
   ],
   "metadata": {
    "collapsed": false
   }
  },
  {
   "cell_type": "markdown",
   "source": [
    "## BB 2A:\n",
    "Calculate and report the accuracy of your SVM in %."
   ],
   "metadata": {
    "collapsed": false
   }
  },
  {
   "cell_type": "code",
   "execution_count": 14,
   "outputs": [
    {
     "name": "stdout",
     "output_type": "stream",
     "text": [
      "0.6590909090909091\n"
     ]
    }
   ],
   "source": [
    "clf = svm.SVC(kernel='linear')\n",
    "clf.fit(df_train, train_labels)\n",
    "prediction = clf.predict(df_test)\n",
    "print(accuracy_score(prediction, test_labels))"
   ],
   "metadata": {
    "collapsed": false
   }
  },
  {
   "cell_type": "code",
   "execution_count": 15,
   "outputs": [],
   "source": [
    "# Exercise 2b\n",
    "coefficients = clf.coef_[0,:20]"
   ],
   "metadata": {
    "collapsed": false
   }
  },
  {
   "cell_type": "markdown",
   "source": [
    "## BB 2B:\n",
    "Include a picture of your scatter plot. Remember to only use the first 20 values of each array."
   ],
   "metadata": {
    "collapsed": false
   }
  },
  {
   "cell_type": "code",
   "execution_count": 16,
   "outputs": [
    {
     "data": {
      "text/plain": "<Figure size 640x480 with 1 Axes>",
      "image/png": "[encoded data removed]"
     },
     "metadata": {},
     "output_type": "display_data"
    }
   ],
   "source": [
    "# creating the bar plot\n",
    "plt.scatter(coefficients, individ_differences[:20], color ='blue', marker='o', facecolors='none', edgecolors='blue')\n",
    "\n",
    "plt.ylabel(\"Response Amplitude\")\n",
    "plt.xlabel(\"Weights\")\n",
    "plt.title(\"SVM Weights Of The First 20 Voxels\")\n",
    "plt.savefig(\"2B: Scatter Plot.jpg\")\n",
    "plt.show()"
   ],
   "metadata": {
    "collapsed": false
   }
  },
  {
   "cell_type": "markdown",
   "source": [
    "## BB 2C:\n",
    "Report the pearson correlation coefficient that you calculated"
   ],
   "metadata": {
    "collapsed": false
   }
  },
  {
   "cell_type": "code",
   "execution_count": 17,
   "outputs": [
    {
     "name": "stdout",
     "output_type": "stream",
     "text": [
      "[[1.         0.58957011]\n",
      " [0.58957011 1.        ]]\n"
     ]
    }
   ],
   "source": [
    "# pearson correlation\n",
    "print(np.corrcoef(coefficients, individ_differences[:20]))\n",
    "\n",
    "# perfectly positive, medium correlation"
   ],
   "metadata": {
    "collapsed": false
   }
  },
  {
   "cell_type": "markdown",
   "source": [
    "Now you will perform the same analysis, but this time, you classify human and non- human images from the animate image set. Again, split both classes into training set and test set (first 10 images: training set, last 10 images: test set). There are 4 more human than non-human images in your dataset. We do not want to include these extra images because this can bias our SVM to predict a human image more often. Therefore, you need to remove the last 4 datasets from the human dataset."
   ],
   "metadata": {
    "collapsed": false
   }
  },
  {
   "cell_type": "code",
   "execution_count": 18,
   "outputs": [],
   "source": [
    "human_indices = cat_vecs.index[((cat_vecs['Var1'] == 1) & (cat_vecs['Var3'] == 1))].tolist()\n",
    "nonhuman_indices = cat_vecs.index[(cat_vecs['Var1'] == 1) & (cat_vecs['Var4'] == 1)].tolist()\n",
    "\n",
    "human = neural_resp2[neural_resp2.index.isin(human_indices)][:20].reset_index(drop=True)\n",
    "nonhuman = neural_resp2[neural_resp2.index.isin(nonhuman_indices)].reset_index(drop=True)"
   ],
   "metadata": {
    "collapsed": false
   }
  },
  {
   "cell_type": "code",
   "execution_count": 19,
   "outputs": [],
   "source": [
    "human_train = pd.concat([human[:10], nonhuman[:10]])\n",
    "human_train_labels = [1]*10 +  [-1]*10\n",
    "\n",
    "human_test = pd.concat([human[10:], nonhuman[10:]])\n",
    "human_test_labels = [1]*10 +  [-1]*10"
   ],
   "metadata": {
    "collapsed": false
   }
  },
  {
   "cell_type": "markdown",
   "source": [
    "# BB 2D\n",
    "Provide:\n",
    "1) The calculated decoding accuracy\n",
    "2) A judgement of whether this gives confidence / support that the SVM learned to differentiate between the two categories of trials\n",
    "3) A brief motivation for your judgement"
   ],
   "metadata": {
    "collapsed": false
   }
  },
  {
   "cell_type": "code",
   "execution_count": 20,
   "outputs": [
    {
     "name": "stdout",
     "output_type": "stream",
     "text": [
      "0.55\n"
     ]
    }
   ],
   "source": [
    "clf = svm.SVC(kernel='linear')\n",
    "clf.fit(human_train, human_train_labels)\n",
    "prediction = clf.predict(human_test)\n",
    "print(accuracy_score(prediction, human_test_labels))"
   ],
   "metadata": {
    "collapsed": false
   }
  },
  {
   "cell_type": "code",
   "execution_count": null,
   "outputs": [],
   "source": [],
   "metadata": {
    "collapsed": false
   }
  },
  {
   "cell_type": "markdown",
   "source": [
    "# Exercise 3"
   ],
   "metadata": {
    "collapsed": false
   }
  },
  {
   "cell_type": "code",
   "execution_count": 176,
   "outputs": [
    {
     "ename": "RecursionError",
     "evalue": "maximum recursion depth exceeded in comparison",
     "output_type": "error",
     "traceback": [
      "\u001B[0;31m---------------------------------------------------------------------------\u001B[0m",
      "\u001B[0;31mRecursionError\u001B[0m                            Traceback (most recent call last)",
      "Cell \u001B[0;32mIn[176], line 5\u001B[0m\n\u001B[1;32m      2\u001B[0m \u001B[38;5;28;01mimport\u001B[39;00m \u001B[38;5;21;01mrsatoolbox\u001B[39;00m\u001B[38;5;21;01m.\u001B[39;00m\u001B[38;5;21;01mrdm\u001B[39;00m \u001B[38;5;28;01mas\u001B[39;00m \u001B[38;5;21;01mrsr\u001B[39;00m\n\u001B[1;32m      4\u001B[0m \u001B[38;5;66;03m# calculate a RDM\u001B[39;00m\n\u001B[0;32m----> 5\u001B[0m RDM_euc \u001B[38;5;241m=\u001B[39m \u001B[43mrsr\u001B[49m\u001B[38;5;241;43m.\u001B[39;49m\u001B[43mcalc_rdm\u001B[49m\u001B[43m(\u001B[49m\u001B[43mneural_resp1\u001B[49m\u001B[43m)\u001B[49m\n\u001B[1;32m      6\u001B[0m \u001B[38;5;28mprint\u001B[39m(RDM_euc)\n",
      "File \u001B[0;32m~/Library/CloudStorage/OneDrive-Personal/03_Uni/UU/Period 1.2/CogModelling/CognitiveModelling/Interpreter/lib/python3.9/site-packages/rsatoolbox/rdm/calc.py:64\u001B[0m, in \u001B[0;36mcalc_rdm\u001B[0;34m(dataset, method, descriptor, noise, cv_descriptor, prior_lambda, prior_weight, remove_mean)\u001B[0m\n\u001B[1;32m     62\u001B[0m \u001B[38;5;28;01mfor\u001B[39;00m i_dat, ds_i \u001B[38;5;129;01min\u001B[39;00m \u001B[38;5;28menumerate\u001B[39m(dataset):\n\u001B[1;32m     63\u001B[0m     \u001B[38;5;28;01mif\u001B[39;00m noise \u001B[38;5;129;01mis\u001B[39;00m \u001B[38;5;28;01mNone\u001B[39;00m:\n\u001B[0;32m---> 64\u001B[0m         rdms\u001B[38;5;241m.\u001B[39mappend(\u001B[43mcalc_rdm\u001B[49m\u001B[43m(\u001B[49m\n\u001B[1;32m     65\u001B[0m \u001B[43m            \u001B[49m\u001B[43mds_i\u001B[49m\u001B[43m,\u001B[49m\u001B[43m \u001B[49m\u001B[43mmethod\u001B[49m\u001B[38;5;241;43m=\u001B[39;49m\u001B[43mmethod\u001B[49m\u001B[43m,\u001B[49m\n\u001B[1;32m     66\u001B[0m \u001B[43m            \u001B[49m\u001B[43mdescriptor\u001B[49m\u001B[38;5;241;43m=\u001B[39;49m\u001B[43mdescriptor\u001B[49m\u001B[43m,\u001B[49m\n\u001B[1;32m     67\u001B[0m \u001B[43m            \u001B[49m\u001B[43mcv_descriptor\u001B[49m\u001B[38;5;241;43m=\u001B[39;49m\u001B[43mcv_descriptor\u001B[49m\u001B[43m,\u001B[49m\n\u001B[1;32m     68\u001B[0m \u001B[43m            \u001B[49m\u001B[43mprior_lambda\u001B[49m\u001B[38;5;241;43m=\u001B[39;49m\u001B[43mprior_lambda\u001B[49m\u001B[43m,\u001B[49m\u001B[43m \u001B[49m\u001B[43mprior_weight\u001B[49m\u001B[38;5;241;43m=\u001B[39;49m\u001B[43mprior_weight\u001B[49m\u001B[43m)\u001B[49m)\n\u001B[1;32m     69\u001B[0m     \u001B[38;5;28;01melif\u001B[39;00m \u001B[38;5;28misinstance\u001B[39m(noise, np\u001B[38;5;241m.\u001B[39mndarray) \u001B[38;5;129;01mand\u001B[39;00m noise\u001B[38;5;241m.\u001B[39mndim \u001B[38;5;241m==\u001B[39m \u001B[38;5;241m2\u001B[39m:\n\u001B[1;32m     70\u001B[0m         rdms\u001B[38;5;241m.\u001B[39mappend(calc_rdm(\n\u001B[1;32m     71\u001B[0m             ds_i, method\u001B[38;5;241m=\u001B[39mmethod,\n\u001B[1;32m     72\u001B[0m             descriptor\u001B[38;5;241m=\u001B[39mdescriptor,\n\u001B[1;32m     73\u001B[0m             noise\u001B[38;5;241m=\u001B[39mnoise,\n\u001B[1;32m     74\u001B[0m             cv_descriptor\u001B[38;5;241m=\u001B[39mcv_descriptor,\n\u001B[1;32m     75\u001B[0m             prior_lambda\u001B[38;5;241m=\u001B[39mprior_lambda, prior_weight\u001B[38;5;241m=\u001B[39mprior_weight))\n",
      "File \u001B[0;32m~/Library/CloudStorage/OneDrive-Personal/03_Uni/UU/Period 1.2/CogModelling/CognitiveModelling/Interpreter/lib/python3.9/site-packages/rsatoolbox/rdm/calc.py:64\u001B[0m, in \u001B[0;36mcalc_rdm\u001B[0;34m(dataset, method, descriptor, noise, cv_descriptor, prior_lambda, prior_weight, remove_mean)\u001B[0m\n\u001B[1;32m     62\u001B[0m \u001B[38;5;28;01mfor\u001B[39;00m i_dat, ds_i \u001B[38;5;129;01min\u001B[39;00m \u001B[38;5;28menumerate\u001B[39m(dataset):\n\u001B[1;32m     63\u001B[0m     \u001B[38;5;28;01mif\u001B[39;00m noise \u001B[38;5;129;01mis\u001B[39;00m \u001B[38;5;28;01mNone\u001B[39;00m:\n\u001B[0;32m---> 64\u001B[0m         rdms\u001B[38;5;241m.\u001B[39mappend(\u001B[43mcalc_rdm\u001B[49m\u001B[43m(\u001B[49m\n\u001B[1;32m     65\u001B[0m \u001B[43m            \u001B[49m\u001B[43mds_i\u001B[49m\u001B[43m,\u001B[49m\u001B[43m \u001B[49m\u001B[43mmethod\u001B[49m\u001B[38;5;241;43m=\u001B[39;49m\u001B[43mmethod\u001B[49m\u001B[43m,\u001B[49m\n\u001B[1;32m     66\u001B[0m \u001B[43m            \u001B[49m\u001B[43mdescriptor\u001B[49m\u001B[38;5;241;43m=\u001B[39;49m\u001B[43mdescriptor\u001B[49m\u001B[43m,\u001B[49m\n\u001B[1;32m     67\u001B[0m \u001B[43m            \u001B[49m\u001B[43mcv_descriptor\u001B[49m\u001B[38;5;241;43m=\u001B[39;49m\u001B[43mcv_descriptor\u001B[49m\u001B[43m,\u001B[49m\n\u001B[1;32m     68\u001B[0m \u001B[43m            \u001B[49m\u001B[43mprior_lambda\u001B[49m\u001B[38;5;241;43m=\u001B[39;49m\u001B[43mprior_lambda\u001B[49m\u001B[43m,\u001B[49m\u001B[43m \u001B[49m\u001B[43mprior_weight\u001B[49m\u001B[38;5;241;43m=\u001B[39;49m\u001B[43mprior_weight\u001B[49m\u001B[43m)\u001B[49m)\n\u001B[1;32m     69\u001B[0m     \u001B[38;5;28;01melif\u001B[39;00m \u001B[38;5;28misinstance\u001B[39m(noise, np\u001B[38;5;241m.\u001B[39mndarray) \u001B[38;5;129;01mand\u001B[39;00m noise\u001B[38;5;241m.\u001B[39mndim \u001B[38;5;241m==\u001B[39m \u001B[38;5;241m2\u001B[39m:\n\u001B[1;32m     70\u001B[0m         rdms\u001B[38;5;241m.\u001B[39mappend(calc_rdm(\n\u001B[1;32m     71\u001B[0m             ds_i, method\u001B[38;5;241m=\u001B[39mmethod,\n\u001B[1;32m     72\u001B[0m             descriptor\u001B[38;5;241m=\u001B[39mdescriptor,\n\u001B[1;32m     73\u001B[0m             noise\u001B[38;5;241m=\u001B[39mnoise,\n\u001B[1;32m     74\u001B[0m             cv_descriptor\u001B[38;5;241m=\u001B[39mcv_descriptor,\n\u001B[1;32m     75\u001B[0m             prior_lambda\u001B[38;5;241m=\u001B[39mprior_lambda, prior_weight\u001B[38;5;241m=\u001B[39mprior_weight))\n",
      "    \u001B[0;31m[... skipping similar frames: calc_rdm at line 64 (2963 times)]\u001B[0m\n",
      "File \u001B[0;32m~/Library/CloudStorage/OneDrive-Personal/03_Uni/UU/Period 1.2/CogModelling/CognitiveModelling/Interpreter/lib/python3.9/site-packages/rsatoolbox/rdm/calc.py:64\u001B[0m, in \u001B[0;36mcalc_rdm\u001B[0;34m(dataset, method, descriptor, noise, cv_descriptor, prior_lambda, prior_weight, remove_mean)\u001B[0m\n\u001B[1;32m     62\u001B[0m \u001B[38;5;28;01mfor\u001B[39;00m i_dat, ds_i \u001B[38;5;129;01min\u001B[39;00m \u001B[38;5;28menumerate\u001B[39m(dataset):\n\u001B[1;32m     63\u001B[0m     \u001B[38;5;28;01mif\u001B[39;00m noise \u001B[38;5;129;01mis\u001B[39;00m \u001B[38;5;28;01mNone\u001B[39;00m:\n\u001B[0;32m---> 64\u001B[0m         rdms\u001B[38;5;241m.\u001B[39mappend(\u001B[43mcalc_rdm\u001B[49m\u001B[43m(\u001B[49m\n\u001B[1;32m     65\u001B[0m \u001B[43m            \u001B[49m\u001B[43mds_i\u001B[49m\u001B[43m,\u001B[49m\u001B[43m \u001B[49m\u001B[43mmethod\u001B[49m\u001B[38;5;241;43m=\u001B[39;49m\u001B[43mmethod\u001B[49m\u001B[43m,\u001B[49m\n\u001B[1;32m     66\u001B[0m \u001B[43m            \u001B[49m\u001B[43mdescriptor\u001B[49m\u001B[38;5;241;43m=\u001B[39;49m\u001B[43mdescriptor\u001B[49m\u001B[43m,\u001B[49m\n\u001B[1;32m     67\u001B[0m \u001B[43m            \u001B[49m\u001B[43mcv_descriptor\u001B[49m\u001B[38;5;241;43m=\u001B[39;49m\u001B[43mcv_descriptor\u001B[49m\u001B[43m,\u001B[49m\n\u001B[1;32m     68\u001B[0m \u001B[43m            \u001B[49m\u001B[43mprior_lambda\u001B[49m\u001B[38;5;241;43m=\u001B[39;49m\u001B[43mprior_lambda\u001B[49m\u001B[43m,\u001B[49m\u001B[43m \u001B[49m\u001B[43mprior_weight\u001B[49m\u001B[38;5;241;43m=\u001B[39;49m\u001B[43mprior_weight\u001B[49m\u001B[43m)\u001B[49m)\n\u001B[1;32m     69\u001B[0m     \u001B[38;5;28;01melif\u001B[39;00m \u001B[38;5;28misinstance\u001B[39m(noise, np\u001B[38;5;241m.\u001B[39mndarray) \u001B[38;5;129;01mand\u001B[39;00m noise\u001B[38;5;241m.\u001B[39mndim \u001B[38;5;241m==\u001B[39m \u001B[38;5;241m2\u001B[39m:\n\u001B[1;32m     70\u001B[0m         rdms\u001B[38;5;241m.\u001B[39mappend(calc_rdm(\n\u001B[1;32m     71\u001B[0m             ds_i, method\u001B[38;5;241m=\u001B[39mmethod,\n\u001B[1;32m     72\u001B[0m             descriptor\u001B[38;5;241m=\u001B[39mdescriptor,\n\u001B[1;32m     73\u001B[0m             noise\u001B[38;5;241m=\u001B[39mnoise,\n\u001B[1;32m     74\u001B[0m             cv_descriptor\u001B[38;5;241m=\u001B[39mcv_descriptor,\n\u001B[1;32m     75\u001B[0m             prior_lambda\u001B[38;5;241m=\u001B[39mprior_lambda, prior_weight\u001B[38;5;241m=\u001B[39mprior_weight))\n",
      "File \u001B[0;32m~/Library/CloudStorage/OneDrive-Personal/03_Uni/UU/Period 1.2/CogModelling/CognitiveModelling/Interpreter/lib/python3.9/site-packages/rsatoolbox/rdm/calc.py:60\u001B[0m, in \u001B[0;36mcalc_rdm\u001B[0;34m(dataset, method, descriptor, noise, cv_descriptor, prior_lambda, prior_weight, remove_mean)\u001B[0m\n\u001B[1;32m     24\u001B[0m \u001B[38;5;28;01mdef\u001B[39;00m \u001B[38;5;21mcalc_rdm\u001B[39m(\n\u001B[1;32m     25\u001B[0m         dataset: DatasetBase,\n\u001B[1;32m     26\u001B[0m         method: \u001B[38;5;28mstr\u001B[39m \u001B[38;5;241m=\u001B[39m \u001B[38;5;124m'\u001B[39m\u001B[38;5;124meuclidean\u001B[39m\u001B[38;5;124m'\u001B[39m,\n\u001B[0;32m   (...)\u001B[0m\n\u001B[1;32m     31\u001B[0m         prior_weight: \u001B[38;5;28mfloat\u001B[39m \u001B[38;5;241m=\u001B[39m \u001B[38;5;241m0.1\u001B[39m,\n\u001B[1;32m     32\u001B[0m         remove_mean: \u001B[38;5;28mbool\u001B[39m \u001B[38;5;241m=\u001B[39m \u001B[38;5;28;01mFalse\u001B[39;00m):\n\u001B[1;32m     33\u001B[0m \u001B[38;5;250m    \u001B[39m\u001B[38;5;124;03m\"\"\"\u001B[39;00m\n\u001B[1;32m     34\u001B[0m \u001B[38;5;124;03m    calculates an RDM from an input dataset\u001B[39;00m\n\u001B[1;32m     35\u001B[0m \n\u001B[0;32m   (...)\u001B[0m\n\u001B[1;32m     58\u001B[0m \n\u001B[1;32m     59\u001B[0m \u001B[38;5;124;03m    \"\"\"\u001B[39;00m\n\u001B[0;32m---> 60\u001B[0m     \u001B[38;5;28;01mif\u001B[39;00m \u001B[38;5;28;43misinstance\u001B[39;49m\u001B[43m(\u001B[49m\u001B[43mdataset\u001B[49m\u001B[43m,\u001B[49m\u001B[43m \u001B[49m\u001B[43mIterable\u001B[49m\u001B[43m)\u001B[49m:\n\u001B[1;32m     61\u001B[0m         rdms \u001B[38;5;241m=\u001B[39m []\n\u001B[1;32m     62\u001B[0m         \u001B[38;5;28;01mfor\u001B[39;00m i_dat, ds_i \u001B[38;5;129;01min\u001B[39;00m \u001B[38;5;28menumerate\u001B[39m(dataset):\n",
      "File \u001B[0;32m/Library/Frameworks/Python.framework/Versions/3.9/lib/python3.9/abc.py:119\u001B[0m, in \u001B[0;36mABCMeta.__instancecheck__\u001B[0;34m(cls, instance)\u001B[0m\n\u001B[1;32m    117\u001B[0m \u001B[38;5;28;01mdef\u001B[39;00m \u001B[38;5;21m__instancecheck__\u001B[39m(\u001B[38;5;28mcls\u001B[39m, instance):\n\u001B[1;32m    118\u001B[0m \u001B[38;5;250m    \u001B[39m\u001B[38;5;124;03m\"\"\"Override for isinstance(instance, cls).\"\"\"\u001B[39;00m\n\u001B[0;32m--> 119\u001B[0m     \u001B[38;5;28;01mreturn\u001B[39;00m \u001B[43m_abc_instancecheck\u001B[49m\u001B[43m(\u001B[49m\u001B[38;5;28;43mcls\u001B[39;49m\u001B[43m,\u001B[49m\u001B[43m \u001B[49m\u001B[43minstance\u001B[49m\u001B[43m)\u001B[49m\n",
      "\u001B[0;31mRecursionError\u001B[0m: maximum recursion depth exceeded in comparison"
     ]
    }
   ],
   "source": [
    "import rsatoolbox\n",
    "import rsatoolbox.rdm as rsr\n",
    "\n",
    "# calculate a RDM\n",
    "RDM_euc = rsr.calc_rdm(neural_resp1)\n",
    "print(RDM_euc)"
   ],
   "metadata": {
    "collapsed": false
   }
  },
  {
   "cell_type": "code",
   "execution_count": null,
   "outputs": [],
   "source": [
    "\"\"\" calculate the representational dissimilarity of each image pair, constructing a representational dissimilarity matrix (RDM). Take the\n",
    "responses of each object (across all recording sites) and calculate the dissimilarity\n",
    "from the responses to each other object. You will need to repeat this for every\n",
    "possible pair to produce an RDM.\n",
    "\"\"\""
   ],
   "metadata": {
    "collapsed": false
   }
  }
 ],
 "metadata": {
  "kernelspec": {
   "display_name": "Python 3",
   "language": "python",
   "name": "python3"
  },
  "language_info": {
   "codemirror_mode": {
    "name": "ipython",
    "version": 2
   },
   "file_extension": ".py",
   "mimetype": "text/x-python",
   "name": "python",
   "nbconvert_exporter": "python",
   "pygments_lexer": "ipython2",
   "version": "2.7.6"
  }
 },
 "nbformat": 4,
 "nbformat_minor": 0
}
